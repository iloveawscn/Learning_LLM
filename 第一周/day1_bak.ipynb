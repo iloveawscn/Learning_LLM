{
 "cells": [
  {
   "cell_type": "markdown",
   "id": "d15d8294-3328-4e07-ad16-8a03e9bbfdb9",
   "metadata": {},
   "source": [
    "# 你的第一个实验\n",
    "### 请阅读本节内容。即使内容较长，这些信息对你的准备工作也非常重要。\n",
    "\n",
    "## 你的第一个前沿大语言模型项目\n",
    "\n",
    "让我们在几分钟内构建一个有用的大语言模型解决方案。\n",
    "\n",
    "在本课程结束时，你将构建一个由7个代理组成的自主智能体AI解决方案，这些代理协同工作以解决业务问题。一切都会循序渐进！我们将从一些较小的项目开始...\n",
    "\n",
    "我们的目标是编写一个新型的网页浏览器。给它一个URL，它就会返回一个摘要。\n",
    "\n",
    "在开始之前，你应该已经完成了[PC](../SETUP-PC.md)或[Mac](../SETUP-mac.md)的环境设置，并且希望你已经在项目根目录下启动了jupyter lab，同时激活了你的环境。\n",
    "\n",
    "## 如果你是Jupyter Lab新手\n",
    "\n",
    "欢迎来到数据科学实验的精彩世界！一旦你使用过Jupyter Lab，你就会想知道没有它之前是怎么生活的。只需点击每个包含代码的\"单元格\"，比如这段文字下面的单元格，然后按Shift+Return执行该单元格。根据需要，你可以使用工具栏中的+按钮添加单元格，打印变量值，或尝试不同的变化。\n",
    "\n",
    "我编写了一个名为[Jupyter指南](Guide%20to%20Jupyter.ipynb)的笔记本，帮助你更熟悉Jupyter Labs，包括添加Markdown注释，使用`!`运行shell命令，以及使用`tqdm`显示进度。\n",
    "\n",
    "\n"
   ]
  },
  {
   "cell_type": "code",
   "execution_count": null,
   "id": "4e2a9393-7767-488e-a8bf-27c12dca35bd",
   "metadata": {},
   "outputs": [],
   "source": [
    "# 导入所需的库\n",
    "\n",
    "import os\n",
    "import requests\n",
    "from dotenv import load_dotenv\n",
    "from bs4 import BeautifulSoup\n",
    "from IPython.display import Markdown, display\n",
    "from openai import OpenAI\n",
    "\n",
    "# 如果运行这个单元格时出现错误，请查看故障排除笔记本！"
   ]
  },
  {
   "cell_type": "markdown",
   "id": "6900b2a8-6384-4316-8aaa-5e519fca4254",
   "metadata": {},
   "source": [
    "# 连接到OpenAI\n",
    "\n",
    "下一个单元格是我们加载.env文件中的环境变量并连接到OpenAI的地方。\n",
    "\n",
    "## 如果遇到问题，请进行故障排除：\n",
    "\n",
    "请查看本文件夹中的[故障排除](troubleshooting.ipynb)笔记本，获取逐步的代码来识别根本原因并修复它！\n",
    "\n",
    "如果你做了更改，请尝试重启\"内核\"（这个笔记本背后的python进程），方法是：内核菜单 >> 重启内核并清除所有单元格的输出。然后从顶部开始重新尝试这个笔记本。\n",
    "\n",
    "对API成本有任何担忧？请参阅README中的说明 - 成本应该很小，而且你可以随时控制它。你也可以使用Ollama作为免费替代方案，我们会在第2天讨论这个。"
   ]
  },
  {
   "cell_type": "code",
   "execution_count": null,
   "id": "7b87cadb-d513-4303-baee-a37b6f938e4d",
   "metadata": {},
   "outputs": [],
   "source": [
    "# 加载.env文件中的环境变量\n",
    "\n",
    "load_dotenv(override=True)\n",
    "api_key = os.getenv('OPENAI_API_KEY')\n",
    "\n",
    "# 检查密钥\n",
    "\n",
    "if not api_key:\n",
    "    print(\"未找到API密钥 - 请查看本文件夹中的故障排除笔记本以识别和修复问题！\")\n",
    "elif not api_key.startswith(\"sk-proj-\"):\n",
    "    print(\"找到了API密钥，但它不是以sk-proj-开头的；请检查你是否使用了正确的密钥 - 参见故障排除笔记本\")\n",
    "elif api_key.strip() != api_key:\n",
    "    print(\"找到了API密钥，但看起来在开头或结尾可能有空格或制表符字符 - 请删除它们 - 参见故障排除笔记本\")\n",
    "else:\n",
    "    print(\"找到API密钥，看起来目前一切正常！\")"
   ]
  },
  {
   "cell_type": "code",
   "execution_count": null,
   "id": "019974d9-f3ad-4a8a-b5f9-0a3719aea2d3",
   "metadata": {},
   "outputs": [],
   "source": [
    "openai = OpenAI()\n",
    "\n",
    "# 如果这不起作用，请尝试内核菜单 >> 重启内核并清除所有单元格的输出，然后从这个笔记本的顶部开始运行单元格。\n",
    "# 如果它仍然不起作用（太糟糕了！），请查看本文件夹中的故障排除笔记本获取完整说明"
   ]
  },
  {
   "cell_type": "markdown",
   "id": "442fc84b-0815-4f40-99ab-d9a5da6bda91",
   "metadata": {},
   "source": [
    "# 让我们快速调用一个前沿模型来开始，作为预览！"
   ]
  },
  {
   "cell_type": "code",
   "execution_count": null,
   "id": "a58394bf-1e45-46af-9bfd-01e24da6f49a",
   "metadata": {},
   "outputs": [],
   "source": [
    "# 给你一个预览 -- 用这些消息调用OpenAI就这么简单。如果有任何问题，请查看故障排除笔记本。\n",
    "\n",
    "message = \"你好，GPT！这是我给你的第一条消息！你好！\"\n",
    "response = openai.chat.completions.create(model=\"gpt-4o-mini\", messages=[{\"role\":\"user\", \"content\":message}])\n",
    "print(response.choices[0].message.content)"
   ]
  },
  {
   "cell_type": "markdown",
   "id": "2aa190e5-cb31-456a-96cc-db109919cd78",
   "metadata": {},
   "source": [
    "## 好的，让我们继续我们的第一个项目"
   ]
  },
  {
   "cell_type": "code",
   "execution_count": null,
   "id": "c5e793b2-6775-426a-a139-4848291d0463",
   "metadata": {},
   "outputs": [],
   "source": [
    "# 让我们创建一个函数来获取网页内容\n",
    "\n",
    "def get_webpage_content(url):\n",
    "    try:\n",
    "        # 发送HTTP GET请求\n",
    "        response = requests.get(url)\n",
    "        response.raise_for_status()  # 如果请求失败则抛出异常\n",
    "        \n",
    "        # 使用BeautifulSoup解析HTML\n",
    "        soup = BeautifulSoup(response.text, 'html.parser')\n",
    "        \n",
    "        # 移除所有脚本和样式元素\n",
    "        for script in soup([\"script\", \"style\"]):\n",
    "            script.decompose()\n",
    "            \n",
    "        # 获取文本\n",
    "        text = soup.get_text()\n",
    "        \n",
    "        # 分割成行并去除前导和尾随空白\n",
    "        lines = (line.strip() for line in text.splitlines())\n",
    "        \n",
    "        # 去除空行\n",
    "        chunks = (phrase.strip() for line in lines for phrase in line.split(\"  \"))\n",
    "        text = ' '.join(chunk for chunk in chunks if chunk)\n",
    "        \n",
    "        return text\n",
    "        \n",
    "    except Exception as e:\n",
    "        return f\"错误：{str(e)}\"\n",
    "\n",
    "# 让我们测试一下这个函数\n",
    "url = \"https://www.iloveaws.cn\"\n",
    "content = get_webpage_content(url)\n",
    "print(f\"网页内容的长度：{len(content)}个字符\")\n",
    "print(\"\n",
    "前100个字符：\")\n",
    "print(content[:100])"
   ]
  },
  {
   "cell_type": "markdown",
   "id": "d3c3c4c4-e0c4-4f5c-8c1c-e7c0c0f0c0c0",
   "metadata": {},
   "source": [
    "# 让我们创建一个函数来总结内容\n",
    "\n",
    "我们将使用OpenAI的GPT-4来总结网页内容。"
   ]
  },
  {
   "cell_type": "code",
   "execution_count": null,
   "id": "f5c5c5c5-f5c5-4f5c-8c1c-e7c0c0f0c0c0",
   "metadata": {},
   "outputs": [],
   "source": [
    "def summarize_content(content):\n",
    "    try:\n",
    "        # 准备提示\n",
    "        prompt = f\"请用中文总结以下文本的要点：\n",
    "\n",
    "{content}\"\n",
    "        \n",
    "        # 调用OpenAI API\n",
    "        response = openai.chat.completions.create(\n",
    "            model=\"gpt-4o-mini\",\n",
    "            messages=[{\"role\": \"user\", \"content\": prompt}]\n",
    "        )\n",
    "        \n",
    "        # 返回总结\n",
    "        return response.choices[0].message.content\n",
    "        \n",
    "    except Exception as e:\n",
    "        return f\"错误：{str(e)}\"\n",
    "\n",
    "# 让我们测试总结函数\n",
    "summary = summarize_content(content)\n",
    "print(\"总结：\")\n",
    "print(summary)"
   ]
  },
  {
   "cell_type": "markdown",
   "id": "e6e6e6e6-e6e6-4e6e-8e6e-e6e6e6e6e6e6",
   "metadata": {},
   "source": [
    "# 让我们把它们组合在一起\n",
    "\n",
    "现在我们有了获取网页内容和总结内容的函数，让我们创建一个主函数来完成整个过程。"
   ]
  },
  {
   "cell_type": "code",
   "execution_count": null,
   "id": "g7g7g7g7-g7g7-4g7g-8g7g-g7g7g7g7g7g7",
   "metadata": {},
   "outputs": [],
   "source": [
    "def summarize_webpage(url):\n",
    "    print(f\"正在处理URL：{url}\")\n",
    "    \n",
    "    # 获取网页内容\n",
    "    content = get_webpage_content(url)\n",
    "    if content.startswith(\"错误\"):\n",
    "        return content\n",
    "    \n",
    "    print(f\"成功获取了{len(content)}个字符的内容\n",
    "\")\n",
    "    \n",
    "    # 总结内容\n",
    "    summary = summarize_content(content)\n",
    "    if summary.startswith(\"错误\"):\n",
    "        return summary\n",
    "    \n",
    "    return summary\n",
    "\n",
    "# 让我们用一些不同的URL测试它\n",
    "urls = [\n",
    "    \"https://www.example.com\",\n",
    "    \"https://www.wikipedia.org\"\n",
    "]\n",
    "\n",
    "for url in urls:\n",
    "    print(\"\n",
    "---\n",
    "\")\n",
    "    summary = summarize_webpage(url)\n",
    "    print(\"总结：\")\n",
    "    print(summary)\n",
    "    print(\"\n",
    "---\n",
    "\")"
   ]
  },
  {
   "cell_type": "markdown",
   "id": "h8h8h8h8-h8h8-4h8h-8h8h-h8h8h8h8h8h8",
   "metadata": {},
   "source": [
    "# 恭喜！\n",
    "\n",
    "你已经创建了一个简单但功能强大的工具，可以：\n",
    "1. 获取任何网页的内容\n",
    "2. 使用最先进的AI来总结内容\n",
    "3. 以易于理解的格式呈现结果\n",
    "\n",
    "## 下一步\n",
    "\n",
    "你可以通过以下方式扩展这个项目：\n",
    "1. 添加错误处理来处理无效的URL\n",
    "2. 添加对需要认证的网页的支持\n",
    "3. 添加对不同语言的支持\n",
    "4. 创建一个简单的Web界面\n",
    "5. 添加缓存以避免重复处理相同的URL\n",
    "\n",
    "## 关于API成本的说明\n",
    "\n",
    "请记住，每次调用OpenAI API都会产生成本。虽然成本很小，但在处理大量URL时要注意这一点。\n",
    "\n",
    "## 最后的想法\n",
    "\n",
    "这个简单的项目展示了如何将网络抓取与AI结合起来创建有用的工具。想象一下将这种能力与其他技术结合起来可以构建什么！"
   ]
  }
 ],
 "metadata": {
  "kernelspec": {
   "display_name": "Python 3 (ipykernel)",
   "language": "python",
   "name": "python3"
  },
  "language_info": {
   "codemirror_mode": {
    "name": "ipython",
    "version": 3
   },
   "file_extension": ".py",
   "mimetype": "text/x-python",
   "name": "python",
   "nbconvert_exporter": "python",
   "pygments_lexer": "ipython3",
   "version": "3.11.5"
  }
 },
 "nbformat": 4,
 "nbformat_minor": 5
}
