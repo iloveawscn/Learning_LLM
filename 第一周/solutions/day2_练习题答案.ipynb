{
 "cells": [
  {
   "cell_type": "markdown",
   "id": "d15d8294-3328-4e07-ad16-8a03e9bbfdb9",
   "metadata": {},
   "source": [
    "# 练习题解答\n",
    "\n",
    "将第一天的项目更新，使用本地运行的开源模型 Ollama 而非 OpenAI 来总结网页内容。\n",
    "\n",
    "如果您不想使用付费 API，可以在所有后续项目中使用此技术。\n",
    "\n",
    "**优点：**\n",
    "1. 无 API 费用 - 开源\n",
    "2. 数据不会离开您的设备\n",
    "\n",
    "**缺点：**\n",
    "1. 性能远不如前沿模型\n",
    "\n",
    "## Ollama 安装回顾\n",
    "\n",
    "只需访问 [ollama.com](https://ollama.com) 并安装即可！\n",
    "\n",
    "安装完成后，ollama 服务器应该已经在本地运行。\n",
    "如果您访问：\n",
    "[http://localhost:11434/](http://localhost:11434/)\n",
    "\n",
    "您应该会看到消息 `Ollama is running`。\n",
    "\n",
    "如果不是，请打开一个新的终端（Mac）或 Powershell（Windows），输入 `ollama serve`\n",
    "然后再次尝试访问 [http://localhost:11434/](http://localhost:11434/)。"
   ]
  },
  {
   "cell_type": "code",
   "execution_count": null,
   "id": "4e2a9393-7767-488e-a8bf-27c12dca35bd",
   "metadata": {},
   "outputs": [],
   "source": [
    "# 导入库\n",
    "\n",
    "import requests\n",
    "from bs4 import BeautifulSoup\n",
    "from IPython.display import Markdown, display\n",
    "import ollama"
   ]
  },
  {
   "cell_type": "code",
   "execution_count": null,
   "id": "29ddd15d-a3c5-4f4e-a678-873f56162724",
   "metadata": {},
   "outputs": [],
   "source": [
    "# 常量\n",
    "\n",
    "MODEL = \"llama3.2\""
   ]
  },
  {
   "cell_type": "code",
   "execution_count": null,
   "id": "c5e793b2-6775-426a-a139-4848291d0463",
   "metadata": {},
   "outputs": [],
   "source": [
    "# 一个表示网页的类\n",
    "\n",
    "class Website:\n",
    "    \"\"\"\n",
    "    一个用于表示我们已抓取的网站的工具类\n",
    "    \"\"\"\n",
    "    url: str\n",
    "    title: str\n",
    "    text: str\n",
    "\n",
    "    def __init__(self, url):\n",
    "        \"\"\"\n",
    "        使用 BeautifulSoup 库从给定的 url 创建此 Website 对象\n",
    "        \"\"\"\n",
    "        self.url = url\n",
    "        response = requests.get(url)\n",
    "        soup = BeautifulSoup(response.content, 'html.parser')\n",
    "        self.title = soup.title.string if soup.title else \"未找到标题\"\n",
    "        for irrelevant in soup.body([\"script\", \"style\", \"img\", \"input\"]):\n",
    "            irrelevant.decompose()\n",
    "        self.text = soup.body.get_text(separator=\"\\n\", strip=True)"
   ]
  },
  {
   "cell_type": "code",
   "execution_count": null,
   "id": "2ef960cf-6dc2-4cda-afb3-b38be12f4c97",
   "metadata": {},
   "outputs": [],
   "source": [
    "# 让我们试一个\n",
    "\n",
    "ed = Website(\"https://www.baidu.com\")\n",
    "print(ed.title)\n",
    "print(ed.text)"
   ]
  },
  {
   "cell_type": "markdown",
   "id": "6a478a0c-2c53-48ff-869c-4d08199931e1",
   "metadata": {},
   "source": [
    "## 提示类型\n",
    "\n",
    "您可能已经知道:\n",
    "\n",
    "像 GPT4o 这样的模型已经被训练成以特定方式接收指令。\n",
    "\n",
    "它们期望接收：\n",
    "\n",
    "**系统提示**，告诉它们正在执行什么任务以及应该使用什么语气\n",
    "\n",
    "**用户提示** -- 它们应该回复的对话启动器"
   ]
  },
  {
   "cell_type": "code",
   "execution_count": null,
   "id": "abdb8417-c5dc-44bc-9bee-2e059d162699",
   "metadata": {},
   "outputs": [],
   "source": [
    "# 定义我们的系统提示 - 您稍后可以对此进行实验，将最后一句话更改为 'Respond in markdown in english.'\n",
    "\n",
    "system_prompt = \"您是一个分析网站内容并提供简短摘要的助手，忽略可能与导航相关的文本。\\\n",
    "以 markdown 格式回复。\""
   ]
  },
  {
   "cell_type": "code",
   "execution_count": null,
   "id": "f0275b1b-7cfe-4f9d-abfa-7650d378da0c",
   "metadata": {},
   "outputs": [],
   "source": [
    "# 一个编写用户提示的函数，用于请求网站摘要：\n",
    "\n",
    "def user_prompt_for(website):\n",
    "    user_prompt = f\"您正在查看一个标题为 {website.title} 的网站\"\n",
    "    user_prompt += \"该网站的内容如下；\\\n",
    "请以 markdown 格式提供该网站的简短摘要。\\\n",
    "如果包含新闻或公告，也请一并总结。\\n\\n\"\n",
    "    user_prompt += website.text\n",
    "    return user_prompt"
   ]
  },
  {
   "cell_type": "markdown",
   "id": "ea211b5f-28e1-4a86-8e52-c0b7677cadcc",
   "metadata": {},
   "source": [
    "## 消息\n",
    "\n",
    "Ollama 的 API 期望与 OpenAI 相同的消息格式：\n",
    "\n",
    "```\n",
    "[\n",
    "    {\"role\": \"system\", \"content\": \"系统消息在此\"},\n",
    "    {\"role\": \"user\", \"content\": \"用户消息在此\"}\n",
    "]\n",
    "```"
   ]
  },
  {
   "cell_type": "code",
   "execution_count": null,
   "id": "0134dfa4-8299-48b5-b444-f2a8c3403c88",
   "metadata": {},
   "outputs": [],
   "source": [
    "# 看看这个函数如何精确地创建上述格式\n",
    "\n",
    "def messages_for(website):\n",
    "    return [\n",
    "        {\"role\": \"system\", \"content\": system_prompt},\n",
    "        {\"role\": \"user\", \"content\": user_prompt_for(website)}\n",
    "    ]"
   ]
  },
  {
   "cell_type": "markdown",
   "id": "16f49d46-bf55-4c3e-928f-68fc0bf715b0",
   "metadata": {},
   "source": [
    "## 是时候整合起来了 - 现在使用 Ollama 而非 OpenAI"
   ]
  },
  {
   "cell_type": "code",
   "execution_count": null,
   "id": "905b9919-aba7-45b5-ae65-81b3d1d78e34",
   "metadata": {},
   "outputs": [],
   "source": [
    "# 现在：调用 Ollama 函数而不是 OpenAI\n",
    "\n",
    "def summarize(url):\n",
    "    website = Website(url)\n",
    "    messages = messages_for(website)\n",
    "    response = ollama.chat(model=MODEL, messages=messages)\n",
    "    return response['message']['content']"
   ]
  },
  {
   "cell_type": "code",
   "execution_count": null,
   "id": "05e38d41-dfa4-4b20-9c96-c46ea75d9fb5",
   "metadata": {},
   "outputs": [],
   "source": [
    "summarize(\"https://51cto.com\")"
   ]
  },
  {
   "cell_type": "code",
   "execution_count": null,
   "id": "3d926d59-450e-4609-92ba-2d6f244f1342",
   "metadata": {},
   "outputs": [],
   "source": [
    "# 一个函数，用于在 Jupyter 输出中以 markdown 格式漂亮地显示摘要\n",
    "\n",
    "def display_summary(url):\n",
    "    summary = summarize(url)\n",
    "    display(Markdown(summary))"
   ]
  },
  {
   "cell_type": "code",
   "execution_count": null,
   "id": "3018853a-445f-41ff-9560-d925d1774b2f",
   "metadata": {},
   "outputs": [],
   "source": [
    "display_summary(\"https://51cto.com\")"
   ]
  },
  {
   "cell_type": "markdown",
   "id": "b3bcf6f4-adce-45e9-97ad-d9a5d7a3a624",
   "metadata": {},
   "source": [
    "# 让我们尝试更多网站\n",
    "\n",
    "请注意，这仅适用于可以使用这种简单方法抓取的网站。\n",
    "\n",
    "使用 Javascript 渲染的网站，如 React 应用，将不会显示。您需要阅读有关安装 Selenium 的信息（询问 ChatGPT！）\n",
    "\n",
    "此外，受 CloudFront（及类似服务）保护的网站可能会出现 403 错误。\n",
    "\n",
    "但许多网站都可以正常工作！"
   ]
  },
  {
   "cell_type": "code",
   "execution_count": null,
   "id": "45d83403-a24c-44b5-84ac-961449b4008f",
   "metadata": {},
   "outputs": [],
   "source": [
    "display_summary(\"https://ollama.com\")"
   ]
  },
  {
   "cell_type": "code",
   "execution_count": null,
   "id": "75e9fd40-b354-4341-991e-863ef2e59db7",
   "metadata": {},
   "outputs": [],
   "source": [
    "display_summary(\"https://anthropic.com\")"
   ]
  },
  {
   "cell_type": "code",
   "execution_count": null,
   "id": "a506c9fd-eac1-4d12-879c-91826e79c489",
   "metadata": {},
   "outputs": [],
   "source": []
  }
 ],
 "metadata": {
  "kernelspec": {
   "display_name": "Python 3 (ipykernel)",
   "language": "python",
   "name": "python3"
  },
  "language_info": {
   "codemirror_mode": {
    "name": "ipython",
    "version": 3
   },
   "file_extension": ".py",
   "mimetype": "text/x-python",
   "name": "python",
   "nbconvert_exporter": "python",
   "pygments_lexer": "ipython3",
   "version": "3.11.12"
  }
 },
 "nbformat": 4,
 "nbformat_minor": 5
}
