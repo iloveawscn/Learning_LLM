{
 "cells": [
  {
   "cell_type": "markdown",
   "id": "5c291475-8c7c-461c-9b12-545a887b2432",
   "metadata": {},
   "source": [
    "# Jupyter Lab\n",
    "\n",
    "## 快速入门指南\n",
    "\n",
    "欢迎来到Jupyter Lab的精彩世界！  \n",
    "这是一个数据科学的游乐场，您可以在这里轻松编写代码并查看结果。它是一个理想的环境，适用于：  \n",
    "- 研究与开发\n",
    "- 原型设计\n",
    "- 学习（就是我们！）\n",
    "\n",
    "它通常不用于生产代码的发布，在第8周我们将探索Jupyter与Python代码之间的桥梁。\n",
    "\n",
    "在Jupyter Lab中的文件，如本文件，被称为**笔记本**。\n",
    "\n",
    "很久以前，Jupyter曾被称为“IPython”，因此笔记本的扩展名为“.ipynb”，代表“IPython Notebook”。\n",
    "\n",
    "左侧是一个文件浏览器，您可以通过它浏览目录并选择不同的笔记本。但您可能已经知道这些，否则您不会到达这里！\n",
    "\n",
    "笔记本由一系列称为“单元格”的方框组成。其中一些包含文本，如本单元格，而另一些包含代码，如下面的单元格。\n",
    "\n",
    "点击一个代码单元格并按`Shift + Return`（或`Shift + Enter`）来运行代码并打印输出。\n",
    "\n",
    "现在对下面的单元格执行此操作："
   ]
  },
  {
   "cell_type": "code",
   "execution_count": null,
   "id": "33d37cd8-55c9-4e03-868c-34aa9cab2c80",
   "metadata": {},
   "outputs": [],
   "source": [
    "# 点击此单元格的任意位置并按Shift + Return\n",
    "\n",
    "2 + 2"
   ]
  },
  {
   "cell_type": "markdown",
   "id": "9e95df7b-55c6-4204-b8f9-cae83360fc23",
   "metadata": {},
   "source": [
    "## 恭喜！\n",
    "\n",
    "现在运行下一个单元格，它设置一个值，然后运行后面的单元格以打印该值"
   ]
  },
  {
   "cell_type": "code",
   "execution_count": null,
   "id": "585eb9c1-85ee-4c27-8dc2-b4d8d022eda0",
   "metadata": {},
   "outputs": [],
   "source": [
    "# 为变量设置一个值\n",
    "\n",
    "favorite_fruit = \"bananas\""
   ]
  },
  {
   "cell_type": "code",
   "execution_count": null,
   "id": "07792faa-761d-46cb-b9b7-2bbf70bb1628",
   "metadata": {},
   "outputs": [],
   "source": [
    "# 运行后显示最后一个语句的结果\n",
    "\n",
    "favorite_fruit"
   ]
  },
  {
   "cell_type": "code",
   "execution_count": null,
   "id": "a067d2b1-53d5-4aeb-8a3c-574d39ff654a",
   "metadata": {},
   "outputs": [],
   "source": [
    "# 使用变量\n",
    "\n",
    "print(f\"我最喜欢的水果是{favorite_fruit}\")"
   ]
  },
  {
   "cell_type": "code",
   "execution_count": null,
   "id": "4c5a4e60-b7f4-4953-9e80-6d84ba4664ad",
   "metadata": {},
   "outputs": [],
   "source": [
    "# 现在更改变量\n",
    "\n",
    "favorite_fruit = f\"除了{favorite_fruit}以外的任何东西\""
   ]
  },
  {
   "cell_type": "markdown",
   "id": "9442d5c9-f57d-4839-b0af-dce58646c04f",
   "metadata": {},
   "source": [
    "## 现在返回并重新运行带有打印语句的单元格，向后两个单元格\n",
    "\n",
    "看看它打印的内容是否不同，即使favorite_fruit在笔记本的后面被更改了？\n",
    "\n",
    "笔记本中代码出现的顺序并不重要。重要的是代码**执行**的顺序。在这个笔记本后面有一个Python进程，其中变量正在被更改。\n",
    "\n",
    "这在一些人第一次使用Jupyter时会让他们感到困惑。"
   ]
  },
  {
   "cell_type": "code",
   "execution_count": null,
   "id": "8e5ec81d-7c5b-4025-bd2e-468d67b581b6",
   "metadata": {},
   "outputs": [],
   "source": [
    "# 然后运行此单元格两次，看看您是否理解发生了什么\n",
    "\n",
    "print(f\"我最喜欢的水果是{favorite_fruit}\")\n",
    "\n",
    "favorite_fruit = \"apples\""
   ]
  },
  {
   "cell_type": "markdown",
   "id": "a29dab2d-bab9-4a54-8504-05e62594cc6f",
   "metadata": {},
   "source": [
    "# 解释“内核”\n",
    "\n",
    "在这个笔记本后面有一个Python进程，当您运行它时执行每个单元格。这个Python进程被称为内核。每个笔记本都有自己独立的内核。\n",
    "\n",
    "您可以转到内核菜单并选择“重启内核”。\n",
    "\n",
    "如果您然后尝试运行下一个单元格，您将收到一个错误，因为favorite_fruit不再定义。您需要再次从笔记本的顶部运行单元格。然后下一个单元格应该可以正常运行。"
   ]
  },
  {
   "cell_type": "code",
   "execution_count": null,
   "id": "84b1e410-5eda-4e2c-97ce-4eebcff816c5",
   "metadata": {},
   "outputs": [],
   "source": [
    "print(f\"我最喜欢的水果是{favorite_fruit}\")"
   ]
  },
  {
   "cell_type": "markdown",
   "id": "4d4188fc-d9cc-42be-8b4e-ae8630456764",
   "metadata": {},
   "source": [
    "# 添加和移动单元格\n",
    "\n",
    "点击此单元格，然后点击上方工具栏中的\\[+\\]按钮，在此单元格下方立即创建一个新单元格。复制并粘贴前一个单元格中的代码，然后运行它！在所选单元格的右上角还有图标可以删除它（垃圾桶）、复制它以及上下移动它。\n"
   ]
  },
  {
   "cell_type": "code",
   "execution_count": null,
   "id": "ce258424-40c3-49a7-9462-e6fa25014b03",
   "metadata": {},
   "outputs": [],
   "source": []
  },
  {
   "cell_type": "markdown",
   "id": "30e71f50-8f01-470a-9d7a-b82a6cef4236",
   "metadata": {},
   "source": [
    "# 单元格输出\n",
    "\n",
    "当您执行一个单元格时，标准输出和最后一个语句的结果会写入代码下方的区域，称为“单元格输出”。当您从文件菜单（或command+S）保存笔记本时，输出也会被保存，这使其成为一个有用的记录。\n",
    "\n",
    "您可以通过转到编辑菜单 >> 清除所有单元格的输出，或内核菜单 >> 重启内核并清除所有单元格的输出来清理它。"
   ]
  },
  {
   "cell_type": "code",
   "execution_count": null,
   "id": "a4d021e2-c284-411f-8ab1-030530cfbe72",
   "metadata": {},
   "outputs": [],
   "source": [
    "spams = [\"spam\"] * 1000\n",
    "print(spams)\n",
    "\n",
    "# 运行此命令后可能值得清除输出！"
   ]
  },
  {
   "cell_type": "markdown",
   "id": "eac060f2-7a71-46e7-8235-b6ad0a76f5f8",
   "metadata": {},
   "source": [
    "# 使用Markdown\n",
    "\n",
    "那么这些带有文字的区域是怎么回事，比如这个？实际上有一种不同类型的单元格，称为“Markdown”单元格，用于添加这样的解释。点击+按钮添加一个单元格。然后在工具栏中，点击“代码”并将其更改为“Markdown”。\n",
    "\n",
    "使用Markdown格式添加一些注释，或许可以从这里复制粘贴：\n",
    "\n",
    "```\n",
    "# 这是一个标题\n",
    "## 这是一个副标题\n",
    "### 这是一个子副标题\n",
    "\n",
    "我喜欢Jupyter Lab，因为它\n",
    "- 简单\n",
    "- 灵活\n",
    "- 满足\n",
    "```\n",
    "\n",
    "然后只需在单元格中按Shift+Return即可将其转换为格式化文本。\n",
    "如果您想删除它，请点击单元格并按垃圾桶图标。"
   ]
  },
  {
   "cell_type": "code",
   "execution_count": null,
   "id": "e1586320-c90f-4f22-8b39-df6865484950",
   "metadata": {},
   "outputs": [],
   "source": []
  },
  {
   "cell_type": "markdown",
   "id": "1330c83c-67ac-4ca0-ac92-a71699e0c31b",
   "metadata": {},
   "source": [
    "# 感叹号\n",
    "\n",
    "Jupyter Lab有一个非常有用的功能；您可以在代码单元格中输入一个带有!的命令，例如：\n",
    "\n",
    "!pip install \\[some_package\\]\n",
    "\n",
    "它将在命令行中运行（如在Windows Powershell或Mac Terminal中）并打印结果"
   ]
  },
  {
   "cell_type": "code",
   "execution_count": null,
   "id": "82042fc5-a907-4381-a4b8-eb9386df19cd",
   "metadata": {},
   "outputs": [],
   "source": [
    "# 列出当前目录\n",
    "\n",
    "!ls"
   ]
  },
  {
   "cell_type": "code",
   "execution_count": null,
   "id": "4fc3e3da-8a55-40cc-9706-48bf12a0e20e",
   "metadata": {},
   "outputs": [],
   "source": [
    "# ping cnn.com - 当您感到无聊时按工具栏中的停止按钮\n",
    "\n",
    "!ping cnn.com"
   ]
  },
  {
   "cell_type": "code",
   "execution_count": null,
   "id": "a58e9462-89a2-4b4f-b4aa-51c4bd9f796b",
   "metadata": {},
   "outputs": [],
   "source": [
    "# 这是一个有用的命令，确保您的Anaconda环境\n",
    "# 与任何新升级的包保持最新；\n",
    "# 但这可能需要一分钟，并会打印大量输出\n",
    "\n",
    "!conda env update -f ../environment.yml"
   ]
  },
  {
   "cell_type": "markdown",
   "id": "4688baaf-a72c-41b5-90b6-474cb24790a7",
   "metadata": {},
   "source": [
    "# 我们在课程中遇到的小问题\n",
    "\n",
    "这不一定是Jupyter的功能，但这是一个很好的包，在Jupyter Labs中很有用，我在课程中使用它。\n",
    "\n",
    "包`tqdm`如果您包装任何可迭代对象，将打印一个漂亮的进度条。"
   ]
  },
  {
   "cell_type": "code",
   "execution_count": null,
   "id": "2646a4e5-3c23-4aee-a34d-d623815187d2",
   "metadata": {},
   "outputs": [],
   "source": [
    "# 这里有一些没有进度条的代码\n",
    "# 它将花费10秒钟，而您会想知道发生了什么..\n",
    "\n",
    "import time\n",
    "\n",
    "spams = [\"spam\"] * 1000\n",
    "\n",
    "for spam in spams:\n",
    "    time.sleep(0.01)"
   ]
  },
  {
   "cell_type": "code",
   "execution_count": null,
   "id": "6e96be3d-fa82-42a3-a8aa-b81dd20563a5",
   "metadata": {},
   "outputs": [],
   "source": [
    "# 现在，有一个漂亮的小进度条：\n",
    "\n",
    "import time\n",
    "from tqdm import tqdm\n",
    "\n",
    "spams = [\"spam\"] * 1000\n",
    "\n",
    "for spam in tqdm(spams):\n",
    "    time.sleep(0.01)"
   ]
  },
  {
   "cell_type": "code",
   "execution_count": null,
   "id": "63c788dd-4618-4bb4-a5ce-204411a38ade",
   "metadata": {},
   "outputs": [],
   "source": [
    "# 在不同的话题上，这里有一种在markdown中打印输出的有用方法\n",
    "\n",
    "from IPython.display import Markdown, display\n",
    "\n",
    "display(Markdown(\"# 这是一个大标题！\\n\\n- 这是一个项目符号\\n- 这也是\\n- 我也是！\"))\n"
   ]
  },
  {
   "cell_type": "markdown",
   "id": "9d14c1fb-3321-4387-b6ca-9af27676f980",
   "metadata": {},
   "source": [
    "# 就这样！您已经掌握了Jupyter Lab的使用。\n",
    "\n",
    "## 想要更高级？\n",
    "\n",
    "如果您想成为Jupyter Lab的专家，可以阅读他们的教程[这里](https://jupyterlab.readthedocs.io/en/latest/)。但这不是我们课程的必需内容；只是一个很好的技巧，按Shift + Return并享受结果！"
   ]
  }
 ],
 "metadata": {
  "kernelspec": {
   "display_name": "Python 3 (ipykernel)",
   "language": "python",
   "name": "python3"
  },
  "language_info": {
   "codemirror_mode": {
    "name": "ipython",
    "version": 3
   },
   "file_extension": ".py",
   "mimetype": "text/x-python",
   "name": "python",
   "nbconvert_exporter": "python",
   "pygments_lexer": "ipython3",
   "version": "3.11.11"
  }
 },
 "nbformat": 4,
 "nbformat_minor": 5
}