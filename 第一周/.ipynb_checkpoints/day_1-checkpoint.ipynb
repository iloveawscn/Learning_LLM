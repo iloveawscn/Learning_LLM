{
 "cells": [
  {
   "cell_type": "markdown",
   "id": "d15d8294-3328-4e07-ad16-8a03e9bbfdb9",
   "metadata": {},
   "source": [
    "# 你的第一个实验\n",
    "### 请阅读本节。这对你做好准备非常有价值，即使阅读起来较长，但这些内容很重要。\n",
    "\n",
    "## 你的第一个 Frontier LLM 项目\n",
    "\n",
    "让我们在几分钟内构建一个有用的 LLM 解决方案。\n",
    "\n",
    "在本课程结束时，你将构建一个具有 7 个代理（Agent）的自主智能体 AI 解决方案，这些代理将协同解决一个业务问题。一切都会水到渠成！我们将从更小的东西开始...\n",
    "\n",
    "我们的目标是编写一种新型的网页浏览器。给它一个 URL，它将返回一个摘要。\n",
    "\n",
    "开始之前，你应该已经完成了 [PC](../SETUP-PC.md) 或 [Mac](../SETUP-mac.md) 的设置，并且最好是在项目根目录内启动了此 Jupyter Lab，并激活了你的环境。\n",
    "\n",
    "## 如果你是 Jupyter Lab 新手\n",
    "\n",
    "欢迎来到数据科学实验的精彩世界！一旦你使用过 Jupyter Lab，你会想知道之前没有它你是怎么工作的。只需单击带有代码的每个“单元格”（例如此文本正下方的单元格），然后按 Shift+Return 执行该单元格。如果你愿意，可以使用工具栏中的 + 按钮添加一个单元格，打印变量的值，或尝试各种变体。  \n",
    "\n",
    "我写了一个名为 [Guide to Jupyter](Guide%20to%20Jupyter.ipynb) 的笔记本，以帮助你更熟悉 Jupyter Labs，包括添加 Markdown 注释，使用 `!` 运行 shell 命令，以及使用 `tqdm` 显示进度。"
   ]
  },
  {
   "cell_type": "code",
   "execution_count": 12,
   "id": "4e2a9393-7767-488e-a8bf-27c12dca35bd",
   "metadata": {},
   "outputs": [],
   "source": [
    "# 导入库\n",
    "\n",
    "import os\n",
    "import requests\n",
    "from dotenv import load_dotenv\n",
    "from bs4 import BeautifulSoup\n",
    "from IPython.display import Markdown, display\n",
    "from openai import OpenAI\n",
    "\n",
    "# 如果运行此单元格时出错，请前往此文件夹中的故障排除笔记本进行查看！"
   ]
  },
  {
   "cell_type": "markdown",
   "id": "6900b2a8-6384-4316-8aaa-5e519fca4254",
   "metadata": {},
   "source": [
    "# 连接到 OpenAI\n",
    "\n",
    "下一个单元格是加载你的 `.env` 文件中的环境变量并连接到 OpenAI 的地方。\n",
    "\n",
    "## 如果遇到问题请进行故障排除：\n",
    "\n",
    "前往此文件夹中的 [故障排除](troubleshooting.ipynb) 笔记本，其中包含逐步代码以识别根本原因并进行修复！\n",
    "\n",
    "如果你进行了更改，尝试通过 Kernel 菜单 >> Restart Kernel and Clear Outputs of All Cells 重启“内核”（此笔记本背后的 Python 进程）。然后从本笔记本顶部开始重新运行单元格。\n",
    "\n",
    "担心 API 成本吗？请查看 README 中的说明 - 成本应该非常低，而且你可以在每个环节控制。你也可以使用 Ollama 作为免费替代方案，我们会在第 2 天讨论它。"
   ]
  },
  {
   "cell_type": "code",
   "execution_count": 13,
   "id": "7b87cadb-d513-4303-baee-a37b6f938e4d",
   "metadata": {},
   "outputs": [
    {
     "name": "stdout",
     "output_type": "stream",
     "text": [
      "API 密钥已找到，目前看起来不错！\n"
     ]
    }
   ],
   "source": [
    "# 从名为 .env 的文件中加载环境变量\n",
    "\n",
    "load_dotenv(override=True)\n",
    "api_key = os.getenv('OPENAI_API_KEY')\n",
    "\n",
    "# 检查 API 密钥\n",
    "\n",
    "if not api_key:\n",
    "    print(\"未找到 API 密钥 - 请前往此文件夹中的故障排除笔记本进行识别和修复！\")\n",
    "elif not api_key.startswith(\"sk-proj-\"):\n",
    "    print(\"找到了 API 密钥，但它不是以 sk-proj- 开头；请检查你是否使用了正确的密钥 - 请参阅故障排除笔记本\")\n",
    "elif api_key.strip() != api_key:\n",
    "    print(\"找到了 API 密钥，但它看起来开头或结尾可能包含空格或制表符 - 请删除它们 - 请参阅故障排除笔记本\")\n",
    "else:\n",
    "    print(\"API 密钥已找到，目前看起来不错！\")\n"
   ]
  },
  {
   "cell_type": "code",
   "execution_count": 14,
   "id": "019974d9-f3ad-4a8a-b5f9-0a3719aea2d3",
   "metadata": {},
   "outputs": [],
   "source": [
    "openai = OpenAI()\n",
    "\n",
    "# 如果这不起作用，请尝试 Kernel 菜单 >> Restart Kernel and Clear Outputs Of All Cells，然后从本笔记本顶部开始运行单元格。\n",
    "# 如果仍然不起作用（天哪！），请参阅此文件夹中的故障排除笔记本以获取完整说明"
   ]
  },
  {
   "cell_type": "markdown",
   "id": "442fc84b-0815-4f40-99ab-d9a5da6bda91",
   "metadata": {},
   "source": [
    "# 让我们快速调用一下 Frontier 模型作为预览！"
   ]
  },
  {
   "cell_type": "code",
   "execution_count": 15,
   "id": "a58394bf-1e45-46af-9bfd-01e24da6f49a",
   "metadata": {},
   "outputs": [
    {
     "name": "stdout",
     "output_type": "stream",
     "text": [
      "你好！很高兴收到你的消息！有什么我可以帮助你的吗？\n"
     ]
    }
   ],
   "source": [
    "# 为了给你一个预览 -- 用这些消息调用 OpenAI 就是如此简单。如有任何问题，请前往故障排除笔记本。\n",
    "\n",
    "message = \"你好，GPT！这是我发给你的第一条消息！你好！\"\n",
    "response = openai.chat.completions.create(model=\"gpt-4o-mini\", messages=[{\"role\":\"user\", \"content\":message}])\n",
    "print(response.choices[0].message.content)"
   ]
  },
  {
   "cell_type": "markdown",
   "id": "2aa190e5-cb31-456a-96cc-db109919cd78",
   "metadata": {},
   "source": [
    "## 好的，继续我们的第一个项目"
   ]
  },
  {
   "cell_type": "code",
   "execution_count": 16,
   "id": "c5e793b2-6775-426a-a139-4848291d0463",
   "metadata": {},
   "outputs": [],
   "source": [
    "# 用于表示网页的类\n",
    "\n",
    "# 一些网站在抓取时需要使用正确的请求头：\n",
    "headers = {\n",
    " \"User-Agent\": \"Mozilla/5.0 (Windows NT 10.0; Win64; x64) AppleWebKit/537.36 (KHTML, like Gecko) Chrome/117.0.0.0 Safari/537.36\"\n",
    "}\n",
    "\n",
    "class Website:\n",
    "\n",
    "    def __init__(self, url):\n",
    "        \"\"\"\n",
    "        使用 BeautifulSoup 库从给定的 url 创建此 Website 对象\n",
    "        \"\"\"\n",
    "        self.url = url\n",
    "        response = requests.get(url, headers=headers)\n",
    "        soup = BeautifulSoup(response.content, 'html.parser')\n",
    "        self.title = soup.title.string if soup.title else \"未找到标题\"\n",
    "        for irrelevant in soup.body([\"script\", \"style\", \"img\", \"input\"]):\n",
    "            irrelevant.decompose()\n",
    "        self.text = soup.body.get_text(separator=\"\\n\", strip=True)"
   ]
  },
  {
   "cell_type": "code",
   "execution_count": 8,
   "id": "2ef960cf-6dc2-4cda-afb3-b38be12f4c97",
   "metadata": {},
   "outputs": [
    {
     "name": "stdout",
     "output_type": "stream",
     "text": [
      "顶云AWS爱好者 – AWS中文视频在线课程 – 打造您的云端技能 获取AWS认证 成为AWS专家\n",
      "首页\n",
      "全部课程\n",
      "通过AWS SAP认证（博客）\n",
      "01-开始课程\n",
      "02-身份与联合身份验证\n",
      "03-计算与负载均衡\n",
      "04-存储\n",
      "05-数据库\n",
      "06-缓存\n",
      "07-VPC\n",
      "08-安全\n",
      "09-监控\n",
      "10-成本控制\n",
      "11-部署与实例管理\n",
      "12-其他\n",
      "AWS知识点\n",
      "成本优化\n",
      "灾难恢复\n",
      "捐助本站\n",
      "Login\n",
      "Sign Up\n",
      "LOGIN\n",
      "Forgot Password\n",
      "Remember Me\n",
      "Sign Up\n",
      "首页\n",
      "全部课程\n",
      "通过AWS SAP认证（博客）\n",
      "01-开始课程\n",
      "02-身份与联合身份验证\n",
      "03-计算与负载均衡\n",
      "04-存储\n",
      "05-数据库\n",
      "06-缓存\n",
      "07-VPC\n",
      "08-安全\n",
      "09-监控\n",
      "10-成本控制\n",
      "11-部署与实例管理\n",
      "12-其他\n",
      "AWS知识点\n",
      "成本优化\n",
      "灾难恢复\n",
      "捐助本站\n",
      "为您打造卓越的AWS云端技能，成就非凡的云端梦想，照亮辉煌的云端未来\n",
      "获取AWS认证，成为AWS专家，掌握云端领域的核心知识和技能\n",
      "全面：中文在线课程，从基础到高级，掌握AWS核心知识和技能\n",
      "专业：AWS认证专家和行业布道者讲授，分享实用示例和最佳实践\n",
      "更新：内容与AWS平台和认证考试同步更新，拥有持续的AWS知识体系\n",
      "灵活：在线课程随时随地学习，按自己节奏学习，适合初学者和专业人士\n",
      "捐助开通课程\n",
      "全部课程\n",
      "轻松入门AWS云计算2025\n",
      "私人\n",
      "818\n",
      "学习人工智能 |通过 AWS AI 从业者 AIF-C01 考试！\n",
      "私人\n",
      "228\n",
      "AWS解决方案架构师认证助理级(SAA-C03)中文视频培训课程2025\n",
      "私人\n",
      "1613\n",
      "AWS Bedrock实战精通-2小时掌握企业级生成式AI服务\n",
      "私人\n",
      "99\n",
      "AWS解决方案架构师认证 Professional(SAP-C02)中文视频培训课程2025\n",
      "私人\n",
      "2794\n",
      "Terraform - 从初级到高级\n",
      "私人\n",
      "900\n",
      "捐助开通课程\n",
      "课程常见问题\n",
      "课程是否完结？是否是最新的内容？\n",
      "是的！\n",
      "目前只有AIF- C01课程在持续更新中（持续更新的课程在该课程主页有明确的标注）。\n",
      "本站课程均是最新内容，最新版本。\n",
      "认证课程完全贴合现有认证考试内容。如认证考试内容有更新，我们课程也会进行更新。\n",
      "开通课程后有有效期吗？\n",
      "永久有效！永久观看！\n",
      "目前课程开通后均永久有效，您可以观看现有课程的课时及后续更新的课时。\n",
      "如何开通课程？\n",
      "访问网站的捐助本站(点击下面的“捐助本站”也可以)，扫码捐助对应您需要的课程即可，捐助页面有具体的流程\n",
      "捐助本站\n",
      "开通课程支持的付款方式？\n",
      "可以在捐助页面通过微信， 支付宝进行扫码。\n",
      "如果需要paypal捐助请微信联系：chenmoemo\n",
      "开通课程还能优惠吗？\n",
      "课程开通费用以捐助页面iloveaws.cn/about为准。\n",
      "本课程定价模式是到达一定的报名名额价格逐步上浮。报名越早越优惠。\n",
      "捐助页面就是当前及以后最低的价格，后续只会不断上浮。之后的任何活动的优惠都不会低于捐助页面当前的价格。\n",
      "可以关注捐助页面的多课程同时捐助，价格优惠幅度大。\n",
      "课程是录播课还是直播？\n",
      "录播\n",
      "在哪里观看课程？\n",
      "就在这里，我们的官方网站\n",
      "可以电脑或手机浏览器观看\n",
      "课程是否包括考试题库？\n",
      "我们认证的相关课程都有考试仿真题，用于掌握已经学到的知识，熟悉考试题目的形式，但非真实题库。\n",
      "我们目前没有收费题库的业务。本站课程旨在输出知识，用于通过考试及现实工作。\n",
      "开通课程学习后，是否包过考试？\n",
      "我们的认证课程的主要目的之一就是帮助您通过认证考试，课程的内容和设计都是围绕着通过认证考试。我们相信只要认真学习，大家都能够顺利通过考试；\n",
      "但是我们无法保证每个人看了课程都能够包过考试。\n",
      "课程都包括什么内容？\n",
      "该课程的全部课时内容，以及开通课程答疑系统，对课程教学有任何问题都可以通过答疑系统提交，我们会尽快回复（一般24小时内）。\n",
      "绝大部分课程都提供对应的课件，以及练习题。（具体是否包括请看该课程说明）\n",
      "课程要学多久？\n",
      "每个人的情况不同，没有标准答案。\n",
      "但一般在每天2小时学习时间情况下：\n",
      "SAA 大概 1-2月\n",
      "SAP 大概4-6月\n",
      "您将从课程中学到什么？\n",
      "掌握AWS核心服务\n",
      "学习如何配置和管理云计算资源，包括EC2实例、S3存储桶和RDS数据库等。了解它们的功能和用法，为您的云端项目提供可靠的基础设施。\n",
      "深入了解AWS架构\n",
      "了解AWS的架构原理和最佳实践，学习如何设计高可用性、可扩展性和安全性的云解决方案。掌握AWS架构师的关键概念和技巧。\n",
      "实践云端部署与管理\n",
      "学习如何使用AWS工具和服务进行应用程序的部署、自动化和监控。了解DevOps流程，并获得在云端环境中高效运维的技能。\n",
      "准备AWS认证考试\n",
      "通过深入的课程学习和练习，为AWS认证考试做好充分准备。掌握考试所需的核心知识，提升通过考试的机会。\n",
      "捐助开通课程\n",
      "学员评价 - 课程已帮助数万人通过认证考试\n",
      "有幸发现这个网站，有幸加入课程学习的时间很早，课程帮我顺利的通过认证考试，并掌握了AWS技能，找到了第一份工作。如今工作已经一年，感恩当时遇到了AWS爱好者网站，感恩贵站的AWS认证课程。\n",
      "清风\n",
      "课程学员\n",
      "顺利通过了SAA和SAP认证，拿到证书啦！！感谢AWS爱好者网站的视频课程，节省了我很多备考时间，课程全程都是干货没有废话，效率！之后如有机会我一定帮推荐！\n",
      "小雨\n",
      "课程学员\n",
      "我在欧洲定居，这边互联网公司尤其是通信公司非常紧缺AWS的人才，我之前并不是行业内人士，近期刚决定考SAA就一直学习贵站的课程的免费课时，课程质量非常棒，刚开通看完了课程。讲课的PPT也非常用心和精美，赞👍🏻！\n",
      "我是郭某人\n",
      "课程学员\n",
      "贵站的课程真是全干货，我前两年就拿到了SAP证书，但是近期还是决定开通了课程，重新系统学习下AWS，巩固一下知识和技能，然后在日本卷起来。\n",
      "JIM\n",
      "课程学员\n",
      "用户名\n",
      "密码\n",
      "记住我\n",
      "注册\n",
      "点击这里开通课程\n",
      "全部课程\n",
      "AWS Bedrock实战精通-2小时掌握企业级生成式AI服务\n",
      "(  评价 )\n",
      "99\n",
      "私人\n",
      "学习人工智能 |通过 AWS AI 从业者 AIF-C01 考试！\n",
      "(  评价 )\n",
      "228\n",
      "私人\n",
      "Terraform - 从初级到高级\n",
      "(  评价 )\n",
      "900\n",
      "私人\n",
      "轻松入门AWS云计算2025\n",
      "(  评价 )\n",
      "818\n",
      "私人\n",
      "AWS学习讨论微信群（加微信拉入）\n",
      "微信公众号\n",
      "top\n",
      "冀公网安备 13030202002450号\n",
      "京ICP备19029278号-1\n",
      "Setup Menus in Admin Panel\n",
      "error:\n",
      "Content is protected !!\n"
     ]
    }
   ],
   "source": [
    "# 让我们试一个。更改网站并添加 print 语句来跟踪。\n",
    "\n",
    "ed = Website(\"https://iloveaws.cn\")\n",
    "print(ed.title)\n",
    "print(ed.text)"
   ]
  },
  {
   "cell_type": "markdown",
   "id": "6a478a0c-2c53-48ff-869c-4d08199931e1",
   "metadata": {},
   "source": [
    "## 提示词类型\n",
    "\n",
    "你可能已经知道这一点 - 但如果不知道，你很快就会非常熟悉它！\n",
    "\n",
    "像 GPT4o 这样的模型已经被训练成以特定方式接收指令。\n",
    "\n",
    "它们期望接收：\n",
    "\n",
    "**一个系统提示（System Prompt）**，告诉模型它正在执行什么任务以及应使用什么语气\n",
    "\n",
    "**一个用户提示（User Prompt）** -- 实际对话本身"
   ]
  },
  {
   "cell_type": "code",
   "execution_count": 17,
   "id": "abdb8417-c5dc-44bc-9bee-2e059d162699",
   "metadata": {},
   "outputs": [],
   "source": [
    "# 定义我们的系统提示 - 你可以在稍后进行实验，将最后一句话更改为 '以英文的 markdown 格式回复。\"\n",
    "\n",
    "system_prompt = \"你是一个分析网站内容并提供简短摘要的助手，忽略可能与导航相关的文本。\\\n",
    "请以 markdown 格式回复。\""
   ]
  },
  {
   "cell_type": "code",
   "execution_count": 18,
   "id": "f0275b1b-7cfe-4f9d-abfa-7650d378da0c",
   "metadata": {},
   "outputs": [],
   "source": [
    "# 一个用于编写请求网站摘要的用户提示的函数：\n",
    "\n",
    "def user_prompt_for(website):\n",
    "    user_prompt = f\"你正在查看一个标题为 {website.title} 的网站\"\n",
    "    user_prompt += \"\\n此网站的内容如下；请以 markdown 格式提供此网站的简短摘要。\\\n",
    "如果网站包含新闻或公告，也请一并进行摘要。\\n\\n\"\n",
    "    user_prompt += website.text\n",
    "    return user_prompt"
   ]
  },
  {
   "cell_type": "code",
   "execution_count": 19,
   "id": "26448ec4-5c00-4204-baec-7df91d11ff2e",
   "metadata": {},
   "outputs": [
    {
     "name": "stdout",
     "output_type": "stream",
     "text": [
      "你正在查看一个标题为 顶云AWS爱好者 – AWS中文视频在线课程 – 打造您的云端技能 获取AWS认证 成为AWS专家 的网站\n",
      "此网站的内容如下；请以 markdown 格式提供此网站的简短摘要。如果网站包含新闻或公告，也请一并进行摘要。\n",
      "\n",
      "首页\n",
      "全部课程\n",
      "通过AWS SAP认证（博客）\n",
      "01-开始课程\n",
      "02-身份与联合身份验证\n",
      "03-计算与负载均衡\n",
      "04-存储\n",
      "05-数据库\n",
      "06-缓存\n",
      "07-VPC\n",
      "08-安全\n",
      "09-监控\n",
      "10-成本控制\n",
      "11-部署与实例管理\n",
      "12-其他\n",
      "AWS知识点\n",
      "成本优化\n",
      "灾难恢复\n",
      "捐助本站\n",
      "Login\n",
      "Sign Up\n",
      "LOGIN\n",
      "Forgot Password\n",
      "Remember Me\n",
      "Sign Up\n",
      "首页\n",
      "全部课程\n",
      "通过AWS SAP认证（博客）\n",
      "01-开始课程\n",
      "02-身份与联合身份验证\n",
      "03-计算与负载均衡\n",
      "04-存储\n",
      "05-数据库\n",
      "06-缓存\n",
      "07-VPC\n",
      "08-安全\n",
      "09-监控\n",
      "10-成本控制\n",
      "11-部署与实例管理\n",
      "12-其他\n",
      "AWS知识点\n",
      "成本优化\n",
      "灾难恢复\n",
      "捐助本站\n",
      "为您打造卓越的AWS云端技能，成就非凡的云端梦想，照亮辉煌的云端未来\n",
      "获取AWS认证，成为AWS专家，掌握云端领域的核心知识和技能\n",
      "全面：中文在线课程，从基础到高级，掌握AWS核心知识和技能\n",
      "专业：AWS认证专家和行业布道者讲授，分享实用示例和最佳实践\n",
      "更新：内容与AWS平台和认证考试同步更新，拥有持续的AWS知识体系\n",
      "灵活：在线课程随时随地学习，按自己节奏学习，适合初学者和专业人士\n",
      "捐助开通课程\n",
      "全部课程\n",
      "轻松入门AWS云计算2025\n",
      "私人\n",
      "818\n",
      "学习人工智能 |通过 AWS AI 从业者 AIF-C01 考试！\n",
      "私人\n",
      "228\n",
      "AWS解决方案架构师认证助理级(SAA-C03)中文视频培训课程2025\n",
      "私人\n",
      "1613\n",
      "AWS Bedrock实战精通-2小时掌握企业级生成式AI服务\n",
      "私人\n",
      "99\n",
      "AWS解决方案架构师认证 Professional(SAP-C02)中文视频培训课程2025\n",
      "私人\n",
      "2794\n",
      "Terraform - 从初级到高级\n",
      "私人\n",
      "900\n",
      "捐助开通课程\n",
      "课程常见问题\n",
      "课程是否完结？是否是最新的内容？\n",
      "是的！\n",
      "目前只有AIF- C01课程在持续更新中（持续更新的课程在该课程主页有明确的标注）。\n",
      "本站课程均是最新内容，最新版本。\n",
      "认证课程完全贴合现有认证考试内容。如认证考试内容有更新，我们课程也会进行更新。\n",
      "开通课程后有有效期吗？\n",
      "永久有效！永久观看！\n",
      "目前课程开通后均永久有效，您可以观看现有课程的课时及后续更新的课时。\n",
      "如何开通课程？\n",
      "访问网站的捐助本站(点击下面的“捐助本站”也可以)，扫码捐助对应您需要的课程即可，捐助页面有具体的流程\n",
      "捐助本站\n",
      "开通课程支持的付款方式？\n",
      "可以在捐助页面通过微信， 支付宝进行扫码。\n",
      "如果需要paypal捐助请微信联系：chenmoemo\n",
      "开通课程还能优惠吗？\n",
      "课程开通费用以捐助页面iloveaws.cn/about为准。\n",
      "本课程定价模式是到达一定的报名名额价格逐步上浮。报名越早越优惠。\n",
      "捐助页面就是当前及以后最低的价格，后续只会不断上浮。之后的任何活动的优惠都不会低于捐助页面当前的价格。\n",
      "可以关注捐助页面的多课程同时捐助，价格优惠幅度大。\n",
      "课程是录播课还是直播？\n",
      "录播\n",
      "在哪里观看课程？\n",
      "就在这里，我们的官方网站\n",
      "可以电脑或手机浏览器观看\n",
      "课程是否包括考试题库？\n",
      "我们认证的相关课程都有考试仿真题，用于掌握已经学到的知识，熟悉考试题目的形式，但非真实题库。\n",
      "我们目前没有收费题库的业务。本站课程旨在输出知识，用于通过考试及现实工作。\n",
      "开通课程学习后，是否包过考试？\n",
      "我们的认证课程的主要目的之一就是帮助您通过认证考试，课程的内容和设计都是围绕着通过认证考试。我们相信只要认真学习，大家都能够顺利通过考试；\n",
      "但是我们无法保证每个人看了课程都能够包过考试。\n",
      "课程都包括什么内容？\n",
      "该课程的全部课时内容，以及开通课程答疑系统，对课程教学有任何问题都可以通过答疑系统提交，我们会尽快回复（一般24小时内）。\n",
      "绝大部分课程都提供对应的课件，以及练习题。（具体是否包括请看该课程说明）\n",
      "课程要学多久？\n",
      "每个人的情况不同，没有标准答案。\n",
      "但一般在每天2小时学习时间情况下：\n",
      "SAA 大概 1-2月\n",
      "SAP 大概4-6月\n",
      "您将从课程中学到什么？\n",
      "掌握AWS核心服务\n",
      "学习如何配置和管理云计算资源，包括EC2实例、S3存储桶和RDS数据库等。了解它们的功能和用法，为您的云端项目提供可靠的基础设施。\n",
      "深入了解AWS架构\n",
      "了解AWS的架构原理和最佳实践，学习如何设计高可用性、可扩展性和安全性的云解决方案。掌握AWS架构师的关键概念和技巧。\n",
      "实践云端部署与管理\n",
      "学习如何使用AWS工具和服务进行应用程序的部署、自动化和监控。了解DevOps流程，并获得在云端环境中高效运维的技能。\n",
      "准备AWS认证考试\n",
      "通过深入的课程学习和练习，为AWS认证考试做好充分准备。掌握考试所需的核心知识，提升通过考试的机会。\n",
      "捐助开通课程\n",
      "学员评价 - 课程已帮助数万人通过认证考试\n",
      "有幸发现这个网站，有幸加入课程学习的时间很早，课程帮我顺利的通过认证考试，并掌握了AWS技能，找到了第一份工作。如今工作已经一年，感恩当时遇到了AWS爱好者网站，感恩贵站的AWS认证课程。\n",
      "清风\n",
      "课程学员\n",
      "顺利通过了SAA和SAP认证，拿到证书啦！！感谢AWS爱好者网站的视频课程，节省了我很多备考时间，课程全程都是干货没有废话，效率！之后如有机会我一定帮推荐！\n",
      "小雨\n",
      "课程学员\n",
      "我在欧洲定居，这边互联网公司尤其是通信公司非常紧缺AWS的人才，我之前并不是行业内人士，近期刚决定考SAA就一直学习贵站的课程的免费课时，课程质量非常棒，刚开通看完了课程。讲课的PPT也非常用心和精美，赞👍🏻！\n",
      "我是郭某人\n",
      "课程学员\n",
      "贵站的课程真是全干货，我前两年就拿到了SAP证书，但是近期还是决定开通了课程，重新系统学习下AWS，巩固一下知识和技能，然后在日本卷起来。\n",
      "JIM\n",
      "课程学员\n",
      "用户名\n",
      "密码\n",
      "记住我\n",
      "注册\n",
      "点击这里开通课程\n",
      "全部课程\n",
      "AWS Bedrock实战精通-2小时掌握企业级生成式AI服务\n",
      "(  评价 )\n",
      "99\n",
      "私人\n",
      "学习人工智能 |通过 AWS AI 从业者 AIF-C01 考试！\n",
      "(  评价 )\n",
      "228\n",
      "私人\n",
      "Terraform - 从初级到高级\n",
      "(  评价 )\n",
      "900\n",
      "私人\n",
      "轻松入门AWS云计算2025\n",
      "(  评价 )\n",
      "818\n",
      "私人\n",
      "AWS学习讨论微信群（加微信拉入）\n",
      "微信公众号\n",
      "top\n",
      "冀公网安备 13030202002450号\n",
      "京ICP备19029278号-1\n",
      "Setup Menus in Admin Panel\n",
      "error:\n",
      "Content is protected !!\n"
     ]
    }
   ],
   "source": [
    "print(user_prompt_for(ed))"
   ]
  },
  {
   "cell_type": "markdown",
   "id": "ea211b5f-28e1-4a86-8e52-c0b7677cadcc",
   "metadata": {},
   "source": [
    "## 消息\n",
    "\n",
    "来自 OpenAI 的 API 希望以特定的结构接收消息。\n",
    "许多其他 API 也共享此结构：\n",
    "\n",
    "```\n",
    "[\n",
    "    {\"role\": \"system\", \"content\": \"系统消息在这里\"},\n",
    "    {\"role\": \"user\", \"content\": \"用户消息在这里\"}\n",
    "]\n",
    "\n",
    "为了给你一个预览，接下来的 2 个单元格进行了一个相当简单的调用 - 我们（暂时！）不会挑战强大的 GPT"
   ]
  },
  {
   "cell_type": "code",
   "execution_count": 20,
   "id": "f25dcd35-0cd0-4235-9f64-ac37ed9eaaa5",
   "metadata": {},
   "outputs": [],
   "source": [
    "# 一个简单的消息列表\n",
    "\n",
    "messages = [\n",
    "    {\"role\": \"system\", \"content\": \"你是一个喜欢挖苦人的助手\"},\n",
    "    {\"role\": \"user\", \"content\": \"2 + 2 等于多少？\"}\n",
    "]"
   ]
  },
  {
   "cell_type": "code",
   "execution_count": 21,
   "id": "21ed95c5-7001-47de-a36d-1d6673b403ce",
   "metadata": {},
   "outputs": [
    {
     "name": "stdout",
     "output_type": "stream",
     "text": [
      "哇，你问的这个问题真是让人惊讶。2 + 2 当然是 4，不过我想你可能是想问 \"这是怎样的一种数学挑战\" 吧？\n"
     ]
    }
   ],
   "source": [
    "# 为了给你一个预览 -- 调用 OpenAI 并使用系统和用户消息：\n",
    "\n",
    "response = openai.chat.completions.create(model=\"gpt-4o-mini\", messages=messages)\n",
    "print(response.choices[0].message.content)"
   ]
  },
  {
   "cell_type": "markdown",
   "id": "d06e8d78-ce4c-4b05-aa8e-17050c82bb47",
   "metadata": {},
   "source": [
    "## 现在让我们使用函数为 GPT-4o-mini 构建有用的消息"
   ]
  },
  {
   "cell_type": "code",
   "execution_count": 22,
   "id": "0134dfa4-8299-4b5-b444-f2a8c3403c88",
   "metadata": {},
   "outputs": [],
   "source": [
    "# 看看这个函数是如何创建上面那种格式的\n",
    "\n",
    "def messages_for(website):\n",
    "    return [\n",
    "        {\"role\": \"system\", \"content\": system_prompt},\n",
    "        {\"role\": \"user\", \"content\": user_prompt_for(website)}\n",
    "    ]"
   ]
  },
  {
   "cell_type": "code",
   "execution_count": 23,
   "id": "36478464-39ee-485c-9f3f-6a4e458dbc9c",
   "metadata": {},
   "outputs": [
    {
     "data": {
      "text/plain": [
       "[{'role': 'system',\n",
       "  'content': '你是一个分析网站内容并提供简短摘要的助手，忽略可能与导航相关的文本。请以 markdown 格式回复。'},\n",
       " {'role': 'user',\n",
       "  'content': '你正在查看一个标题为 顶云AWS爱好者 – AWS中文视频在线课程 – 打造您的云端技能 获取AWS认证 成为AWS专家 的网站\\n此网站的内容如下；请以 markdown 格式提供此网站的简短摘要。如果网站包含新闻或公告，也请一并进行摘要。\\n\\n首页\\n全部课程\\n通过AWS SAP认证（博客）\\n01-开始课程\\n02-身份与联合身份验证\\n03-计算与负载均衡\\n04-存储\\n05-数据库\\n06-缓存\\n07-VPC\\n08-安全\\n09-监控\\n10-成本控制\\n11-部署与实例管理\\n12-其他\\nAWS知识点\\n成本优化\\n灾难恢复\\n捐助本站\\nLogin\\nSign Up\\nLOGIN\\nForgot Password\\nRemember Me\\nSign Up\\n首页\\n全部课程\\n通过AWS SAP认证（博客）\\n01-开始课程\\n02-身份与联合身份验证\\n03-计算与负载均衡\\n04-存储\\n05-数据库\\n06-缓存\\n07-VPC\\n08-安全\\n09-监控\\n10-成本控制\\n11-部署与实例管理\\n12-其他\\nAWS知识点\\n成本优化\\n灾难恢复\\n捐助本站\\n为您打造卓越的AWS云端技能，成就非凡的云端梦想，照亮辉煌的云端未来\\n获取AWS认证，成为AWS专家，掌握云端领域的核心知识和技能\\n全面：中文在线课程，从基础到高级，掌握AWS核心知识和技能\\n专业：AWS认证专家和行业布道者讲授，分享实用示例和最佳实践\\n更新：内容与AWS平台和认证考试同步更新，拥有持续的AWS知识体系\\n灵活：在线课程随时随地学习，按自己节奏学习，适合初学者和专业人士\\n捐助开通课程\\n全部课程\\n轻松入门AWS云计算2025\\n私人\\n818\\n学习人工智能 |通过 AWS AI 从业者 AIF-C01 考试！\\n私人\\n228\\nAWS解决方案架构师认证助理级(SAA-C03)中文视频培训课程2025\\n私人\\n1613\\nAWS Bedrock实战精通-2小时掌握企业级生成式AI服务\\n私人\\n99\\nAWS解决方案架构师认证 Professional(SAP-C02)中文视频培训课程2025\\n私人\\n2794\\nTerraform - 从初级到高级\\n私人\\n900\\n捐助开通课程\\n课程常见问题\\n课程是否完结？是否是最新的内容？\\n是的！\\n目前只有AIF- C01课程在持续更新中（持续更新的课程在该课程主页有明确的标注）。\\n本站课程均是最新内容，最新版本。\\n认证课程完全贴合现有认证考试内容。如认证考试内容有更新，我们课程也会进行更新。\\n开通课程后有有效期吗？\\n永久有效！永久观看！\\n目前课程开通后均永久有效，您可以观看现有课程的课时及后续更新的课时。\\n如何开通课程？\\n访问网站的捐助本站(点击下面的“捐助本站”也可以)，扫码捐助对应您需要的课程即可，捐助页面有具体的流程\\n捐助本站\\n开通课程支持的付款方式？\\n可以在捐助页面通过微信， 支付宝进行扫码。\\n如果需要paypal捐助请微信联系：chenmoemo\\n开通课程还能优惠吗？\\n课程开通费用以捐助页面iloveaws.cn/about为准。\\n本课程定价模式是到达一定的报名名额价格逐步上浮。报名越早越优惠。\\n捐助页面就是当前及以后最低的价格，后续只会不断上浮。之后的任何活动的优惠都不会低于捐助页面当前的价格。\\n可以关注捐助页面的多课程同时捐助，价格优惠幅度大。\\n课程是录播课还是直播？\\n录播\\n在哪里观看课程？\\n就在这里，我们的官方网站\\n可以电脑或手机浏览器观看\\n课程是否包括考试题库？\\n我们认证的相关课程都有考试仿真题，用于掌握已经学到的知识，熟悉考试题目的形式，但非真实题库。\\n我们目前没有收费题库的业务。本站课程旨在输出知识，用于通过考试及现实工作。\\n开通课程学习后，是否包过考试？\\n我们的认证课程的主要目的之一就是帮助您通过认证考试，课程的内容和设计都是围绕着通过认证考试。我们相信只要认真学习，大家都能够顺利通过考试；\\n但是我们无法保证每个人看了课程都能够包过考试。\\n课程都包括什么内容？\\n该课程的全部课时内容，以及开通课程答疑系统，对课程教学有任何问题都可以通过答疑系统提交，我们会尽快回复（一般24小时内）。\\n绝大部分课程都提供对应的课件，以及练习题。（具体是否包括请看该课程说明）\\n课程要学多久？\\n每个人的情况不同，没有标准答案。\\n但一般在每天2小时学习时间情况下：\\nSAA 大概 1-2月\\nSAP 大概4-6月\\n您将从课程中学到什么？\\n掌握AWS核心服务\\n学习如何配置和管理云计算资源，包括EC2实例、S3存储桶和RDS数据库等。了解它们的功能和用法，为您的云端项目提供可靠的基础设施。\\n深入了解AWS架构\\n了解AWS的架构原理和最佳实践，学习如何设计高可用性、可扩展性和安全性的云解决方案。掌握AWS架构师的关键概念和技巧。\\n实践云端部署与管理\\n学习如何使用AWS工具和服务进行应用程序的部署、自动化和监控。了解DevOps流程，并获得在云端环境中高效运维的技能。\\n准备AWS认证考试\\n通过深入的课程学习和练习，为AWS认证考试做好充分准备。掌握考试所需的核心知识，提升通过考试的机会。\\n捐助开通课程\\n学员评价 - 课程已帮助数万人通过认证考试\\n有幸发现这个网站，有幸加入课程学习的时间很早，课程帮我顺利的通过认证考试，并掌握了AWS技能，找到了第一份工作。如今工作已经一年，感恩当时遇到了AWS爱好者网站，感恩贵站的AWS认证课程。\\n清风\\n课程学员\\n顺利通过了SAA和SAP认证，拿到证书啦！！感谢AWS爱好者网站的视频课程，节省了我很多备考时间，课程全程都是干货没有废话，效率！之后如有机会我一定帮推荐！\\n小雨\\n课程学员\\n我在欧洲定居，这边互联网公司尤其是通信公司非常紧缺AWS的人才，我之前并不是行业内人士，近期刚决定考SAA就一直学习贵站的课程的免费课时，课程质量非常棒，刚开通看完了课程。讲课的PPT也非常用心和精美，赞👍🏻！\\n我是郭某人\\n课程学员\\n贵站的课程真是全干货，我前两年就拿到了SAP证书，但是近期还是决定开通了课程，重新系统学习下AWS，巩固一下知识和技能，然后在日本卷起来。\\nJIM\\n课程学员\\n用户名\\n密码\\n记住我\\n注册\\n点击这里开通课程\\n全部课程\\nAWS Bedrock实战精通-2小时掌握企业级生成式AI服务\\n(\\xa0\\xa0评价\\xa0)\\n99\\n私人\\n学习人工智能 |通过 AWS AI 从业者 AIF-C01 考试！\\n(\\xa0\\xa0评价\\xa0)\\n228\\n私人\\nTerraform - 从初级到高级\\n(\\xa0\\xa0评价\\xa0)\\n900\\n私人\\n轻松入门AWS云计算2025\\n(\\xa0\\xa0评价\\xa0)\\n818\\n私人\\nAWS学习讨论微信群（加微信拉入）\\n微信公众号\\ntop\\n冀公网安备 13030202002450号\\n京ICP备19029278号-1\\nSetup Menus in Admin Panel\\nerror:\\nContent is protected !!'}]"
      ]
     },
     "execution_count": 23,
     "metadata": {},
     "output_type": "execute_result"
    }
   ],
   "source": [
    "# 试试这个，然后尝试一些其他网站\n",
    "\n",
    "messages_for(ed)"
   ]
  },
  {
   "cell_type": "markdown",
   "id": "16f49d46-bf55-4c3e-928f-68fc0bf715b0",
   "metadata": {},
   "source": [
    "## 是时候将它们结合起来了 - OpenAI 的 API 非常简单！"
   ]
  },
  {
   "cell_type": "code",
   "execution_count": 24,
   "id": "905b9919-aba7-4b5-ae65-81b3d1d78e34",
   "metadata": {},
   "outputs": [],
   "source": [
    "# 现在：调用 OpenAI API。你会非常熟悉这个的！\n",
    "\n",
    "def summarize(url):\n",
    "    website = Website(url)\n",
    "    response = openai.chat.completions.create(\n",
    "        model = \"gpt-4o-mini\",\n",
    "        messages = messages_for(website)\n",
    "    )\n",
    "    return response.choices[0].message.content"
   ]
  },
  {
   "cell_type": "code",
   "execution_count": 25,
   "id": "05e38d41-dfa4-4b20-9c96-c46ea75d9fb5",
   "metadata": {},
   "outputs": [
    {
     "data": {
      "text/plain": [
       "'# 顶云AWS爱好者网站摘要\\n\\n## 概述\\n顶云AWS爱好者提供全面的中文在线课程，旨在帮助用户掌握AWS云计算技能，并获得相关认证。课程内容涵盖从基础到高级的AWS核心知识，适合初学者和专业人士。用户通过捐助支持课程的开通，课程内容则会随着AWS的更新而不断升级。\\n\\n## 课程内容\\n- **核心课程**: 包括身份与联合身份验证、计算与负载均衡、存储、数据库、缓存、VPC、安全、监控等主题。\\n- **认证备考**: 提供与AWS认证考试相匹配的课程内容，帮助用户为考试做准备。\\n- **学习灵活性**: 课程为录播形式，用户可随时随地按照自己的节奏学习。\\n\\n## 用户评价\\n学员纷纷表示课程质量高，内容实用，成功帮助他们通过了AWS认证考试，并提升了在云计算领域的职业能力。\\n\\n## 捐助信息\\n用户可通过微信和支付宝捐助以开通所需课程，捐助后课程永久有效，包含相应的练习题用于考试准备。\\n\\n## 更新信息\\n现有课程会根据AWS平台和认证考试的最新内容进行更新，确保学员学习到最新的知识和技能。\\n\\n## 联系方式\\n学员可通过网站提供的信息获取更多课程相关的问题解答和学习支持。'"
      ]
     },
     "execution_count": 25,
     "metadata": {},
     "output_type": "execute_result"
    }
   ],
   "source": [
    "summarize(\"https://iloveaws.cn\")"
   ]
  },
  {
   "cell_type": "code",
   "execution_count": 26,
   "id": "3d926d59-450e-4609-92ba-2d6f244f1342",
   "metadata": {},
   "outputs": [],
   "source": [
    "# 一个函数用于使用 markdown 在 Jupyter 输出中漂亮地显示摘要\n",
    "\n",
    "def display_summary(url):\n",
    "    summary = summarize(url)\n",
    "    display(Markdown(summary))"
   ]
  },
  {
   "cell_type": "code",
   "execution_count": 27,
   "id": "3018853a-445f-41ff-9560-d925d1774b2f",
   "metadata": {},
   "outputs": [
    {
     "data": {
      "text/markdown": [
       "# 顶云AWS爱好者网站摘要\n",
       "\n",
       "该网站提供全面的AWS中文在线课程，旨在帮助用户获得AWS认证并提升云计算技能。课程由AWS认证专家授课，内容紧跟AWS平台的最新动态，适用于初学者和专业人士。\n",
       "\n",
       "## 课程特色\n",
       "- **内容全面**：涵盖从基础到高级的AWS核心知识与技能。\n",
       "- **灵活学习**：支持随时随地在线学习，可按个人节奏进行。\n",
       "- **长效保障**：所有课程永久有效，用户可长期访问更新内容。\n",
       "- **考试准备**：包括模拟题库，提升认证考试的备考效率。\n",
       "\n",
       "## 课程示例\n",
       "- AWS解决方案架构师认证助理级(SAA-C03)\n",
       "- AWS Bedrock实战精通\n",
       "- Terraform - 从初级到高级\n",
       "\n",
       "## 学员评价\n",
       "学员们普遍表示课程内容干货丰富，帮助他们顺利通过认证考试并提升求职竞争力。\n",
       "\n",
       "## 捐助与支付\n",
       "课程通过捐助方式开通，支持多种支付方式，如微信和支付宝。课程价格将随着报名人数逐步上升。\n",
       "\n",
       "通过此平台，用户能够系统地学习AWS相关技术，为云计算领域打下坚实基础。"
      ],
      "text/plain": [
       "<IPython.core.display.Markdown object>"
      ]
     },
     "metadata": {},
     "output_type": "display_data"
    }
   ],
   "source": [
    "display_summary(\"https://iloveaws.cn\")"
   ]
  },
  {
   "cell_type": "markdown",
   "id": "b3bcf6f4-adce-45e9-97ad-d9a5d7a3a624",
   "metadata": {},
   "source": [
    "# 让我们尝试更多网站\n",
    "\n",
    "注意，这仅适用于可以使用这种简单方法抓取的网站。\n",
    "\n",
    "使用 Javascript 渲染的网站（如 React 应用）将无法显示。请参阅 community-contributions 文件夹，其中有 Selenium 的实现可以解决这个问题。你需要查阅如何安装 Selenium（问问 ChatGPT！）。\n",
    "\n",
    "此外，使用 CloudFront（及类似服务）保护的网站可能会返回 403 错误 \n",
    "\n",
    "但许多网站会正常工作！"
   ]
  },
  {
   "cell_type": "code",
   "execution_count": 28,
   "id": "45d83403-a24c-44b5-84ac-961449b4008f",
   "metadata": {},
   "outputs": [
    {
     "data": {
      "text/markdown": [
       "# 人民网_网上的人民日报 摘要\n",
       "\n",
       "人民网是《人民日报》建设的一个大型网络平台，致力于提供各类政治、经济、文化及社会新闻。网站内容涵盖党政新闻、国际动态、军事、经济科技、社会法治、健康生活等多个领域，同时还有评论和分析。\n",
       "\n",
       "## 最新动态\n",
       "- **习近平与普京会谈**: 习近平强调中俄合作的重要性，双方就多项合作协议进行签署。\n",
       "- **食品安全监管**: 相关部门启动食品安全法执法检查，强化监管能力。\n",
       "- **天气预警**: 中央气象台发布暴雨、大风和强对流天气警报。\n",
       "- **民营经济促进法**: 该法将于2025年5月施行，被视为重要的法治里程碑。\n",
       "\n",
       "## 深度分析\n",
       "- 近年来各地路跑赛事的增长促进了全民健身和科技应用发展。\n",
       "- 通过科技赋能，推动农业现代化。\n",
       "- 民营经济促进法回应了对民营经济发展的多方关切。\n",
       "\n",
       "相关内容还包括全国教育招聘信息、国际对中国新政策的反应、文化旅游新动向等，展示了人民网的综合性与权威性。"
      ],
      "text/plain": [
       "<IPython.core.display.Markdown object>"
      ]
     },
     "metadata": {},
     "output_type": "display_data"
    }
   ],
   "source": [
    "display_summary(\"http://www.people.com.cn\")"
   ]
  },
  {
   "cell_type": "code",
   "execution_count": 29,
   "id": "75e9fd40-b354-4341-991e-863ef2e59db7",
   "metadata": {},
   "outputs": [
    {
     "data": {
      "text/markdown": [
       "# Anthropic Website Summary\n",
       "\n",
       "Anthropic focuses on developing AI technologies, emphasizing safety and responsible creation. The site features various AI models, including the latest **Claude 3.7 Sonnet**, highlighting its capabilities and applications.\n",
       "\n",
       "## Key Offerings\n",
       "- **Claude AI**: A range of AI models designed for diverse applications, including chatbots and coding support.\n",
       "- **APIs and Developer Tools**: Resources for building AI-powered applications.\n",
       "- **Learning and Support**: Guides, customer stories, and educational resources through Anthropic Academy.\n",
       "\n",
       "## Recent Announcements\n",
       "- **ISO 42001 Certification**: A notable certification underscoring their commitment to safety and standards in AI development.\n",
       "\n",
       "## Research Focus\n",
       "- Emphasizes the societal impacts of AI, ongoing research into AI safety, and the responsibility surrounding AI deployment.\n",
       "\n",
       "---\n",
       "\n",
       "This summary reflects the site's commitment to safe AI development and its offerings related to Claude AI and educational resources."
      ],
      "text/plain": [
       "<IPython.core.display.Markdown object>"
      ]
     },
     "metadata": {},
     "output_type": "display_data"
    }
   ],
   "source": [
    "display_summary(\"https://anthropic.com\")"
   ]
  },
  {
   "cell_type": "code",
   "execution_count": null,
   "id": "00743dac-0e70-45b7-879a-d7293a6f68a6",
   "metadata": {},
   "outputs": [],
   "source": [
    "# 步骤 1：创建你的提示\n",
    "\n",
    "system_prompt = \"这里写一些内容\"\n",
    "user_prompt = \"\"\"\n",
    "    很多文本\n",
    "    可以在这里粘贴\n",
    "\"\"\"\n",
    "\n",
    "# 步骤 2：创建消息列表\n",
    "\n",
    "messages = [] # 在这里填写\n",
    "\n",
    "# 步骤 3：调用 OpenAI\n",
    "\n",
    "response =\n",
    "\n",
    "# 步骤 4：打印结果\n",
    "\n",
    "print("
   ]
  },
  {
   "cell_type": "markdown",
   "id": "36ed9f14-b349-40e9-a42c-b367e77f8bda",
   "metadata": {},
   "source": [
    "## 对于喜欢网页抓取的人的额外练习\n",
    "\n",
    "你可能会注意到，如果你尝试 `display_summary(\"https://openai.com\")` - 它不起作用！那是因为 OpenAI 有一个使用 Javascript 的高级网站。有很多方法可以绕过这个问题，其中一些你可能已经熟悉。例如，Selenium 是一个非常流行的框架，它在后台运行浏览器，渲染页面，并允许你查询它。如果你有 Selenium、Playwright 或类似工具的经验，请随时改进 Website 类来使用它们。"
   ]
  },
  {
   "cell_type": "code",
   "execution_count": null,
   "id": "f069ff4a-d706-48f5-9227-87a3a9c7f586",
   "metadata": {},
   "outputs": [],
   "source": []
  }
 ],
 "metadata": {
  "kernelspec": {
   "display_name": "Python 3 (ipykernel)",
   "language": "python",
   "name": "python3"
  },
  "language_info": {
   "codemirror_mode": {
    "name": "ipython",
    "version": 3
   },
   "file_extension": ".py",
   "mimetype": "text/x-python",
   "name": "python",
   "nbconvert_exporter": "python",
   "pygments_lexer": "ipython3",
   "version": "3.11.12"
  }
 },
 "nbformat": 4,
 "nbformat_minor": 5
}
