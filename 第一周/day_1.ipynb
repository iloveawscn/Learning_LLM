{
 "cells": [
  {
   "cell_type": "markdown",
   "id": "d15d8294-3328-4e07-ad16-8a03e9bbfdb9",
   "metadata": {},
   "source": [
    "# 你的第一个实验\n",
    "### 请阅读本节。这对你做好准备非常有价值，即使阅读起来较长，但这些内容很重要。\n",
    "\n",
    "## 你的第一个 Frontier LLM 项目\n",
    "\n",
    "让我们在几分钟内构建一个有用的 LLM 解决方案。\n",
    "\n",
    "在本课程结束时，你将构建一个具有 7 个代理（Agent）的自主智能体 AI 解决方案，这些代理将协同解决一个业务问题。一切都会水到渠成！我们将从更小的东西开始...\n",
    "\n",
    "我们的目标是编写一种新型的网页浏览器。给它一个 URL，它将返回一个摘要。\n",
    "\n",
    "开始之前，你应该已经完成了 [PC](../SETUP-PC.md) 或 [Mac](../SETUP-mac.md) 的设置，并且最好是在项目根目录内启动了此 Jupyter Lab，并激活了你的环境。\n",
    "\n",
    "## 如果你是 Jupyter Lab 新手\n",
    "\n",
    "欢迎来到数据科学实验的精彩世界！一旦你使用过 Jupyter Lab，你会想知道之前没有它你是怎么工作的。只需单击带有代码的每个“单元格”（例如此文本正下方的单元格），然后按 Shift+Return 执行该单元格。如果你愿意，可以使用工具栏中的 + 按钮添加一个单元格，打印变量的值，或尝试各种变体。  \n",
    "\n",
    "我写了一个名为 [Guide to Jupyter](Guide%20to%20Jupyter.ipynb) 的笔记本，以帮助你更熟悉 Jupyter Labs，包括添加 Markdown 注释，使用 `!` 运行 shell 命令，以及使用 `tqdm` 显示进度。"
   ]
  },
  {
   "cell_type": "code",
   "execution_count": null,
   "id": "4e2a9393-7767-488e-a8bf-27c12dca35bd",
   "metadata": {},
   "outputs": [],
   "source": [
    "# 导入库\n",
    "\n",
    "import os\n",
    "import requests\n",
    "from dotenv import load_dotenv\n",
    "from bs4 import BeautifulSoup\n",
    "from IPython.display import Markdown, display\n",
    "from openai import OpenAI\n",
    "\n",
    "# 如果运行此单元格时出错，请前往此文件夹中的故障排除笔记本进行查看！"
   ]
  },
  {
   "cell_type": "markdown",
   "id": "6900b2a8-6384-4316-8aaa-5e519fca4254",
   "metadata": {},
   "source": [
    "# 连接到 OpenAI\n",
    "\n",
    "下一个单元格是加载你的 `.env` 文件中的环境变量并连接到 OpenAI 的地方。\n",
    "\n",
    "## 如果遇到问题请进行故障排除：\n",
    "\n",
    "前往此文件夹中的 [故障排除](troubleshooting.ipynb) 笔记本，其中包含逐步代码以识别根本原因并进行修复！\n",
    "\n",
    "如果你进行了更改，尝试通过 Kernel 菜单 >> Restart Kernel and Clear Outputs of All Cells 重启“内核”（此笔记本背后的 Python 进程）。然后从本笔记本顶部开始重新运行单元格。\n",
    "\n",
    "担心 API 成本吗？请查看 README 中的说明 - 成本应该非常低，而且你可以在每个环节控制。你也可以使用 Ollama 作为免费替代方案，我们会在第 2 天讨论它。"
   ]
  },
  {
   "cell_type": "code",
   "execution_count": null,
   "id": "7b87cadb-d513-4303-baee-a37b6f938e4d",
   "metadata": {},
   "outputs": [],
   "source": [
    "# 从名为 .env 的文件中加载环境变量\n",
    "\n",
    "load_dotenv(override=True)\n",
    "api_key = os.getenv('OPENAI_API_KEY')\n",
    "\n",
    "# 检查 API 密钥\n",
    "\n",
    "if not api_key:\n",
    "    print(\"未找到 API 密钥 - 请前往此文件夹中的故障排除笔记本进行识别和修复！\")\n",
    "elif not api_key.startswith(\"sk-proj-\"):\n",
    "    print(\"找到了 API 密钥，但它不是以 sk-proj- 开头；请检查你是否使用了正确的密钥 - 请参阅故障排除笔记本\")\n",
    "elif api_key.strip() != api_key:\n",
    "    print(\"找到了 API 密钥，但它看起来开头或结尾可能包含空格或制表符 - 请删除它们 - 请参阅故障排除笔记本\")\n",
    "else:\n",
    "    print(\"API 密钥已找到，目前看起来不错！\")\n"
   ]
  },
  {
   "cell_type": "code",
   "execution_count": null,
   "id": "019974d9-f3ad-4a8a-b5f9-0a3719aea2d3",
   "metadata": {},
   "outputs": [],
   "source": [
    "openai = OpenAI()\n",
    "\n",
    "# 如果这不起作用，请尝试 Kernel 菜单 >> Restart Kernel and Clear Outputs Of All Cells，然后从本笔记本顶部开始运行单元格。\n",
    "# 如果仍然不起作用（天哪！），请参阅此文件夹中的故障排除笔记本以获取完整说明"
   ]
  },
  {
   "cell_type": "markdown",
   "id": "442fc84b-0815-4f40-99ab-d9a5da6bda91",
   "metadata": {},
   "source": [
    "# 让我们快速调用一下 Frontier 模型作为预览！"
   ]
  },
  {
   "cell_type": "code",
   "execution_count": null,
   "id": "a58394bf-1e45-46af-9bfd-01e24da6f49a",
   "metadata": {},
   "outputs": [],
   "source": [
    "# 为了给你一个预览 -- 用这些消息调用 OpenAI 就是如此简单。如有任何问题，请前往故障排除笔记本。\n",
    "\n",
    "message = \"你好，GPT！这是我发给你的第一条消息！你好！\"\n",
    "response = openai.chat.completions.create(model=\"gpt-4o-mini\", messages=[{\"role\":\"user\", \"content\":message}])\n",
    "print(response.choices[0].message.content)"
   ]
  },
  {
   "cell_type": "markdown",
   "id": "2aa190e5-cb31-456a-96cc-db109919cd78",
   "metadata": {},
   "source": [
    "## 好的，继续我们的第一个项目"
   ]
  },
  {
   "cell_type": "code",
   "execution_count": null,
   "id": "c5e793b2-6775-426a-a139-4848291d0463",
   "metadata": {},
   "outputs": [],
   "source": [
    "# 用于表示网页的类\n",
    "\n",
    "# 一些网站在抓取时需要使用正确的请求头：\n",
    "headers = {\n",
    " \"User-Agent\": \"Mozilla/5.0 (Windows NT 10.0; Win64; x64) AppleWebKit/537.36 (KHTML, like Gecko) Chrome/117.0.0.0 Safari/537.36\"\n",
    "}\n",
    "\n",
    "class Website:\n",
    "\n",
    "    def __init__(self, url):\n",
    "        \"\"\"\n",
    "        使用 BeautifulSoup 库从给定的 url 创建此 Website 对象\n",
    "        \"\"\"\n",
    "        self.url = url\n",
    "        response = requests.get(url, headers=headers)\n",
    "        soup = BeautifulSoup(response.content, 'html.parser')\n",
    "        self.title = soup.title.string if soup.title else \"未找到标题\"\n",
    "        for irrelevant in soup.body([\"script\", \"style\", \"img\", \"input\"]):\n",
    "            irrelevant.decompose()\n",
    "        self.text = soup.body.get_text(separator=\"\\n\", strip=True)"
   ]
  },
  {
   "cell_type": "code",
   "execution_count": null,
   "id": "2ef960cf-6dc2-4cda-afb3-b38be12f4c97",
   "metadata": {},
   "outputs": [],
   "source": [
    "# 让我们试一个。更改网站并添加 print 语句来跟踪。\n",
    "\n",
    "ed = Website(\"https://iloveaws.cn\")\n",
    "print(ed.title)\n",
    "print(ed.text)"
   ]
  },
  {
   "cell_type": "markdown",
   "id": "6a478a0c-2c53-48ff-869c-4d08199931e1",
   "metadata": {},
   "source": [
    "## 提示类型\n",
    "\n",
    "你可能已经知道这一点 - 但如果不知道，你很快就会非常熟悉它！\n",
    "\n",
    "像 GPT4o 这样的模型已经被训练成以特定方式接收指令。\n",
    "\n",
    "它们期望接收：\n",
    "\n",
    "**一个系统提示（System Prompt）**，告诉模型它正在执行什么任务以及应使用什么语气\n",
    "\n",
    "**一个用户提示（User Prompt）** -- 模型应该回复的对话启动者"
   ]
  },
  {
   "cell_type": "code",
   "execution_count": null,
   "id": "abdb8417-c5dc-44bc-9bee-2e059d162699",
   "metadata": {},
   "outputs": [],
   "source": [
    "# 定义我们的系统提示 - 你可以在稍后进行实验，将最后一句话更改为 '以英文的 markdown 格式回复。\"\n",
    "\n",
    "system_prompt = \"你是一个分析网站内容并提供简短摘要的助手，忽略可能与导航相关的文本。\\\n",
    "请以 markdown 格式回复。\""
   ]
  },
  {
   "cell_type": "code",
   "execution_count": null,
   "id": "f0275b1b-7cfe-4f9d-abfa-7650d378da0c",
   "metadata": {},
   "outputs": [],
   "source": [
    "# 一个用于编写请求网站摘要的用户提示的函数：\n",
    "\n",
    "def user_prompt_for(website):\n",
    "    user_prompt = f\"你正在查看一个标题为 {website.title} 的网站\"\n",
    "    user_prompt += \"\\n此网站的内容如下；请以 markdown 格式提供此网站的简短摘要。\\\n",
    "如果网站包含新闻或公告，也请一并进行摘要。\\n\\n\"\n",
    "    user_prompt += website.text\n",
    "    return user_prompt"
   ]
  },
  {
   "cell_type": "code",
   "execution_count": null,
   "id": "26448ec4-5c00-4204-baec-7df91d11ff2e",
   "metadata": {},
   "outputs": [],
   "source": [
    "print(user_prompt_for(ed))"
   ]
  },
  {
   "cell_type": "markdown",
   "id": "ea211b5f-28e1-4a86-8e52-c0b7677cadcc",
   "metadata": {},
   "source": [
    "## 消息\n",
    "\n",
    "来自 OpenAI 的 API 希望以特定的结构接收消息。\n",
    "许多其他 API 也共享此结构：\n",
    "\n",
    "```\n",
    "[\n",
    "    {\"role\": \"system\", \"content\": \"系统消息在这里\"},\n",
    "    {\"role\": \"user\", \"content\": \"用户消息在这里\"}\n",
    "]\n",
    "\n",
    "为了给你一个预览，接下来的 2 个单元格进行了一个相当简单的调用 - 我们（暂时！）不会挑战强大的 GPT"
   ]
  },
  {
   "cell_type": "code",
   "execution_count": null,
   "id": "f25dcd35-0cd0-4235-9f64-ac37ed9eaaa5",
   "metadata": {},
   "outputs": [],
   "source": [
    "# 一个简单的消息列表\n",
    "\n",
    "messages = [\n",
    "    {\"role\": \"system\", \"content\": \"你是一个喜欢挖苦人的助手\"},\n",
    "    {\"role\": \"user\", \"content\": \"2 + 2 是多少？\"}\n",
    "]"
   ]
  },
  {
   "cell_type": "code",
   "execution_count": null,
   "id": "21ed95c5-7001-47de-a36d-1d6673b403ce",
   "metadata": {},
   "outputs": [],
   "source": [
    "# 为了给你一个预览 -- 调用 OpenAI 并使用系统和用户消息：\n",
    "\n",
    "response = openai.chat.completions.create(model=\"gpt-4o-mini\", messages=messages)\n",
    "print(response.choices[0].message.content)"
   ]
  },
  {
   "cell_type": "markdown",
   "id": "d06e8d78-ce4c-4b05-aa8e-17050c82bb47",
   "metadata": {},
   "source": [
    "## 现在让我们使用函数为 GPT-4o-mini 构建有用的消息"
   ]
  },
  {
   "cell_type": "code",
   "execution_count": null,
   "id": "0134dfa4-8299-4b5-b444-f2a8c3403c88",
   "metadata": {},
   "outputs": [],
   "source": [
    "# 看看这个函数是如何创建上面那种格式的\n",
    "\n",
    "def messages_for(website):\n",
    "    return [\n",
    "        {\"role\": \"system\", \"content\": system_prompt},\n",
    "        {\"role\": \"user\", \"content\": user_prompt_for(website)}\n",
    "    ]"
   ]
  },
  {
   "cell_type": "code",
   "execution_count": null,
   "id": "36478464-39ee-485c-9f3f-6a4e458dbc9c",
   "metadata": {},
   "outputs": [],
   "source": [
    "# 试试这个，然后尝试一些其他网站\n",
    "\n",
    "messages_for(ed)"
   ]
  },
  {
   "cell_type": "markdown",
   "id": "16f49d46-bf55-4c3e-928f-68fc0bf715b0",
   "metadata": {},
   "source": [
    "## 是时候将它们结合起来了 - OpenAI 的 API 非常简单！"
   ]
  },
  {
   "cell_type": "code",
   "execution_count": null,
   "id": "905b9919-aba7-4b5-ae65-81b3d1d78e34",
   "metadata": {},
   "outputs": [],
   "source": [
    "# 现在：调用 OpenAI API。你会非常熟悉这个的！\n",
    "\n",
    "def summarize(url):\n",
    "    website = Website(url)\n",
    "    response = openai.chat.completions.create(\n",
    "        model = \"gpt-4o-mini\",\n",
    "        messages = messages_for(website)\n",
    "    )\n",
    "    return response.choices[0].message.content"
   ]
  },
  {
   "cell_type": "code",
   "execution_count": null,
   "id": "05e38d41-dfa4-4b20-9c96-c46ea75d9fb5",
   "metadata": {},
   "outputs": [],
   "source": [
    "summarize(\"https://iloveaws.cn\")"
   ]
  },
  {
   "cell_type": "code",
   "execution_count": null,
   "id": "3d926d59-450e-4609-92ba-2d6f244f1342",
   "metadata": {},
   "outputs": [],
   "source": [
    "# 一个函数用于使用 markdown 在 Jupyter 输出中漂亮地显示摘要\n",
    "\n",
    "def display_summary(url):\n",
    "    summary = summarize(url)\n",
    "    display(Markdown(summary))"
   ]
  },
  {
   "cell_type": "code",
   "execution_count": null,
   "id": "3018853a-445f-41ff-9560-d925d1774b2f",
   "metadata": {},
   "outputs": [],
   "source": [
    "display_summary(\"https://iloveaws.cn\")"
   ]
  },
  {
   "cell_type": "markdown",
   "id": "b3bcf6f4-adce-45e9-97ad-d9a5d7a3a624",
   "metadata": {},
   "source": [
    "# 让我们尝试更多网站\n",
    "\n",
    "注意，这仅适用于可以使用这种简单方法抓取的网站。\n",
    "\n",
    "使用 Javascript 渲染的网站（如 React 应用）将无法显示。请参阅 community-contributions 文件夹，其中有 Selenium 的实现可以解决这个问题。你需要查阅如何安装 Selenium（问问 ChatGPT！）。\n",
    "\n",
    "此外，使用 CloudFront（及类似服务）保护的网站可能会返回 403 错误 \n",
    "\n",
    "但许多网站会正常工作！"
   ]
  },
  {
   "cell_type": "code",
   "execution_count": null,
   "id": "45d83403-a24c-44b5-84ac-961449b4008f",
   "metadata": {},
   "outputs": [],
   "source": [
    "display_summary(\"https://cnn.com\")"
   ]
  },
  {
   "cell_type": "code",
   "execution_count": null,
   "id": "75e9fd40-b354-4341-991e-863ef2e59db7",
   "metadata": {},
   "outputs": [],
   "source": [
    "display_summary(\"https://anthropic.com\")"
   ]
  },
  {
   "cell_type": "code",
   "execution_count": null,
   "id": "00743dac-0e70-45b7-879a-d7293a6f68a6",
   "metadata": {},
   "outputs": [],
   "source": [
    "# 步骤 1：创建你的提示\n",
    "\n",
    "system_prompt = \"这里写一些内容\"\n",
    "user_prompt = \"\"\"\n",
    "    很多文本\n",
    "    可以在这里粘贴\n",
    "\"\"\"\n",
    "\n",
    "# 步骤 2：创建消息列表\n",
    "\n",
    "messages = [] # 在这里填写\n",
    "\n",
    "# 步骤 3：调用 OpenAI\n",
    "\n",
    "response =\n",
    "\n",
    "# 步骤 4：打印结果\n",
    "\n",
    "print("
   ]
  },
  {
   "cell_type": "markdown",
   "id": "36ed9f14-b349-40e9-a42c-b367e77f8bda",
   "metadata": {},
   "source": [
    "## 对于喜欢网页抓取的人的额外练习\n",
    "\n",
    "你可能会注意到，如果你尝试 `display_summary(\"https://openai.com\")` - 它不起作用！那是因为 OpenAI 有一个使用 Javascript 的高级网站。有很多方法可以绕过这个问题，其中一些你可能已经熟悉。例如，Selenium 是一个非常流行的框架，它在后台运行浏览器，渲染页面，并允许你查询它。如果你有 Selenium、Playwright 或类似工具的经验，请随时改进 Website 类来使用它们。在 community-contributions 文件夹中，你会找到一个学生提供的 Selenium 解决方案示例（谢谢！）。"
   ]
  }
 ],
 "metadata": {
  "kernelspec": {
   "display_name": "Python 3 (ipykernel)",
   "language": "python",
   "name": "python3"
  },
  "language_info": {
   "codemirror_mode": {
    "name": "ipython",
    "version": 3
   },
   "file_extension": ".py",
   "mimetype": "text/x-python",
   "name": "python",
   "nbconvert_exporter": "python",
   "pygments_lexer": "ipython3",
   "version": "3.11.11"
  }
 },
 "nbformat": 4,
 "nbformat_minor": 5
}
