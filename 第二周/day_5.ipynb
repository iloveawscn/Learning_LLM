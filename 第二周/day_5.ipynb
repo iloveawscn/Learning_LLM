{
 "cells": [
  {
   "cell_type": "markdown",
   "id": "ddfa9ae6-69fe-444a-b994-8c4c5970a7ec",
   "metadata": {},
   "source": [
    "# 项目 - 航空公司 AI 助手\n",
    "\n",
    "现在我们将整合所学知识，为一家航空公司制作一个 AI 客服助手"
   ]
  },
  {
   "cell_type": "code",
   "execution_count": 1,
   "id": "8b50bbe2-c0b1-49c3-9a5c-1ba7efa2bcb4",
   "metadata": {},
   "outputs": [],
   "source": [
    "# 导入库\n",
    "\n",
    "import os\n",
    "import json\n",
    "from dotenv import load_dotenv\n",
    "from openai import OpenAI\n",
    "import gradio as gr"
   ]
  },
  {
   "cell_type": "code",
   "execution_count": 2,
   "id": "747e8786-9da8-4342-b6c9-f5f69c2e22ae",
   "metadata": {},
   "outputs": [
    {
     "name": "stdout",
     "output_type": "stream",
     "text": [
      "OpenAI API 密钥存在，前缀为 sk-proj-\n"
     ]
    }
   ],
   "source": [
    "# 初始化\n",
    "\n",
    "load_dotenv(override=True)\n",
    "\n",
    "openai_api_key = os.getenv('OPENAI_API_KEY')\n",
    "if openai_api_key:\n",
    "    print(f\"OpenAI API 密钥存在，前缀为 {openai_api_key[:8]}\")\n",
    "else:\n",
    "    print(\"未设置 OpenAI API 密钥\")\n",
    "    \n",
    "MODEL = \"gpt-4o-mini\"\n",
    "openai = OpenAI()"
   ]
  },
  {
   "cell_type": "code",
   "execution_count": 3,
   "id": "0a521d84-d07c-49ab-a0df-d6451499ed97",
   "metadata": {},
   "outputs": [],
   "source": [
    "system_message = \"你是一家名为 FlightAI 的航空公司的乐于助人的助手。 \"\n",
    "system_message += \"请给出简短、礼貌的回答，不超过一句话。 \"\n",
    "system_message += \"回答务必准确。如果不知道答案，请如实说明。\""
   ]
  },
  {
   "cell_type": "code",
   "execution_count": 4,
   "id": "61a2a15d-b559-4844-b377-6bd5cb4949f6",
   "metadata": {},
   "outputs": [
    {
     "name": "stdout",
     "output_type": "stream",
     "text": [
      "* Running on local URL:  http://127.0.0.1:7860\n",
      "\n",
      "To create a public link, set `share=True` in `launch()`.\n"
     ]
    },
    {
     "data": {
      "text/html": [
       "<div><iframe src=\"http://127.0.0.1:7860/\" width=\"100%\" height=\"500\" allow=\"autoplay; camera; microphone; clipboard-read; clipboard-write;\" frameborder=\"0\" allowfullscreen></iframe></div>"
      ],
      "text/plain": [
       "<IPython.core.display.HTML object>"
      ]
     },
     "metadata": {},
     "output_type": "display_data"
    },
    {
     "data": {
      "text/plain": []
     },
     "execution_count": 4,
     "metadata": {},
     "output_type": "execute_result"
    }
   ],
   "source": [
    "# 这个函数看起来比我视频中的那个要简单得多，因为我们利用了最新的 Gradio 更新\n",
    "\n",
    "def chat(message, history):\n",
    "    messages = [{\"role\": \"system\", \"content\": system_message}] + history + [{\"role\": \"user\", \"content\": message}]\n",
    "    response = openai.chat.completions.create(model=MODEL, messages=messages)\n",
    "    return response.choices[0].message.content\n",
    "\n",
    "gr.ChatInterface(fn=chat, type=\"messages\").launch()"
   ]
  },
  {
   "cell_type": "markdown",
   "id": "36bedabf-a0a7-4985-ad8e-07ed6a55a3a4",
   "metadata": {},
   "source": [
    "## 工具\n",
    "\n",
    "工具是前沿 LLM 提供的一个极其强大的功能。\n",
    "\n",
    "通过工具，你可以编写一个函数，并让 LLM 在其响应中调用该函数。\n",
    "\n",
    "听起来有点吓人……我们是给了它在我们的机器上运行代码的权力吗？\n",
    "\n",
    "嗯，差不多吧。"
   ]
  },
  {
   "cell_type": "code",
   "execution_count": 11,
   "id": "0696acb1-0b05-4dc2-80d5-771be04f1fb2",
   "metadata": {},
   "outputs": [],
   "source": [
    "# 让我们从创建一个有用的函数开始\n",
    "\n",
    "ticket_prices = {\"北京\": \"799\", \"上海\": \"899\", \"成都\": \"1400\", \"济南\": \"499\"}\n",
    "\n",
    "def get_ticket_price(destination_city):\n",
    "    print(f\"工具 get_ticket_price 已为 {destination_city} 调用\")\n",
    "    city = destination_city.lower()\n",
    "    return ticket_prices.get(city, \"未知\")"
   ]
  },
  {
   "cell_type": "code",
   "execution_count": 12,
   "id": "80ca4e09-6287-4d3f-997d-fa6afbcf6c85",
   "metadata": {},
   "outputs": [
    {
     "name": "stdout",
     "output_type": "stream",
     "text": [
      "工具 get_ticket_price 已为 济南 调用\n"
     ]
    },
    {
     "data": {
      "text/plain": [
       "'499'"
      ]
     },
     "execution_count": 12,
     "metadata": {},
     "output_type": "execute_result"
    }
   ],
   "source": [
    "get_ticket_price(\"济南\")"
   ]
  },
  {
   "cell_type": "code",
   "execution_count": 13,
   "id": "4afceded-7178-4c05-8fa6-9f2085e6a344",
   "metadata": {},
   "outputs": [],
   "source": [
    "# 描述我们的函数需要一个特定的字典结构：\n",
    "\n",
    "price_function = {\n",
    "    \"name\": \"get_ticket_price\",\n",
    "    \"description\": \"获取到目的地城市的往返机票价格。当您需要知道机票价格时（例如，当客户询问‘到这个城市的机票多少钱’时），请调用此函数\",\n",
    "    \"parameters\": {\n",
    "        \"type\": \"object\",\n",
    "        \"properties\": {\n",
    "            \"destination_city\": {\n",
    "                \"type\": \"string\",\n",
    "                \"description\": \"客户想要前往的城市\",\n",
    "            },\n",
    "        },\n",
    "        \"required\": [\"destination_city\"],\n",
    "        \"additionalProperties\": False\n",
    "    }\n",
    "}"
   ]
  },
  {
   "cell_type": "code",
   "execution_count": 14,
   "id": "bdca8679-935f-4e7f-97e6-e71a4d4f228c",
   "metadata": {},
   "outputs": [],
   "source": [
    "# 然后将其包含在一个工具列表中：\n",
    "\n",
    "tools = [{\"type\": \"function\", \"function\": price_function}]"
   ]
  },
  {
   "cell_type": "markdown",
   "id": "c3d3554f-b4e3-4ce7-af6f-68faa6dd2340",
   "metadata": {},
   "source": [
    "## 让 OpenAI 使用我们的工具\n",
    "\n",
    "要让 OpenAI “调用我们的工具”，需要一些繁琐的设置\n",
    "\n",
    "我们实际做的是给 LLM 一个机会，让它通知我们它希望我们运行这个工具。\n",
    "\n",
    "新的聊天函数看起来是这样的："
   ]
  },
  {
   "cell_type": "code",
   "execution_count": 15,
   "id": "ce9b0744-9c78-408d-b9df-9f6fd9ed78cf",
   "metadata": {},
   "outputs": [],
   "source": [
    "def chat(message, history):\n",
    "    messages = [{\"role\": \"system\", \"content\": system_message}] + history + [{\"role\": \"user\", \"content\": message}]\n",
    "    response = openai.chat.completions.create(model=MODEL, messages=messages, tools=tools)\n",
    "\n",
    "    if response.choices[0].finish_reason==\"tool_calls\":\n",
    "        message = response.choices[0].message\n",
    "        response, city = handle_tool_call(message)\n",
    "        messages.append(message)\n",
    "        messages.append(response)\n",
    "        response = openai.chat.completions.create(model=MODEL, messages=messages)\n",
    "    \n",
    "    return response.choices[0].message.content"
   ]
  },
  {
   "cell_type": "code",
   "execution_count": 16,
   "id": "b0992986-ea09-4912-a076-8e5603ee631f",
   "metadata": {},
   "outputs": [],
   "source": [
    "# 我们必须编写 handle_tool_call 函数：\n",
    "\n",
    "def handle_tool_call(message):\n",
    "    tool_call = message.tool_calls[0]\n",
    "    arguments = json.loads(tool_call.function.arguments)\n",
    "    city = arguments.get('destination_city')\n",
    "    price = get_ticket_price(city)\n",
    "    response = {\n",
    "        \"role\": \"tool\",\n",
    "        \"content\": json.dumps({\"destination_city\": city,\"price\": price}),\n",
    "        \"tool_call_id\": tool_call.id\n",
    "    }\n",
    "    return response, city"
   ]
  },
  {
   "cell_type": "code",
   "execution_count": null,
   "id": "f4be8a71-b19e-4c2f-80df-f59ff2661f14",
   "metadata": {},
   "outputs": [],
   "source": [
    "gr.ChatInterface(fn=chat, type=\"messages\").launch()"
   ]
  },
  {
   "cell_type": "markdown",
   "id": "473e5b39-da8f-4db1-83ae-dbaca2e9531e",
   "metadata": {},
   "source": [
    "# 让我们进入多模态！！\n",
    "\n",
    "我们可以使用 DALL-E-3，即 GPT-4o 背后的图像生成模型，来为我们制作一些图像\n",
    "\n",
    "让我们把这个功能放到一个名为 artist 的函数中。\n",
    "\n",
    "### 价格提醒：每次我生成一张图片大约花费 4 美分 - 不要疯狂生成图片！"
   ]
  },
  {
   "cell_type": "code",
   "execution_count": 17,
   "id": "2c27c4ba-8ed5-492f-add1-02ce9c81d34c",
   "metadata": {},
   "outputs": [],
   "source": [
    "# 用于处理图像的一些导入\n",
    "\n",
    "import base64\n",
    "from io import BytesIO\n",
    "from PIL import Image"
   ]
  },
  {
   "cell_type": "code",
   "execution_count": 18,
   "id": "773a9f11-557e-43c9-ad50-56cbec3a0f8f",
   "metadata": {},
   "outputs": [],
   "source": [
    "def artist(city):\n",
    "    image_response = openai.images.generate(\n",
    "            model=\"dall-e-3\",\n",
    "            prompt=f\"一幅代表在 {city} 度假的照片，以充满活力的波普艺术风格展示旅游景点和 {city} 的一切独特之处\",\n",
    "            size=\"1024x1024\",\n",
    "            n=1,\n",
    "            response_format=\"b64_json\",\n",
    "        )\n",
    "    image_base64 = image_response.data[0].b64_json\n",
    "    image_data = base64.b64decode(image_base64)\n",
    "    return Image.open(BytesIO(image_data))"
   ]
  },
  {
   "cell_type": "code",
   "execution_count": null,
   "id": "d877c453-e7fb-482a-88aa-1a03f976b9e9",
   "metadata": {},
   "outputs": [],
   "source": [
    "image = artist(\"上海\")\n",
    "display(image)"
   ]
  },
  {
   "cell_type": "code",
   "execution_count": null,
   "id": "728a12c5-adc3-415d-bb05-82beb73b079b",
   "metadata": {},
   "outputs": [],
   "source": []
  },
  {
   "cell_type": "markdown",
   "id": "f4975b87-19e9-4ade-a232-9b809ec75c9a",
   "metadata": {},
   "source": [
    "## 音频（注意 - 音频是本课程的可选部分 - 如果遇到问题，可以随时跳过音频！）\n",
    "\n",
    "让我们创建一个名为 talker 的函数，使用 OpenAI 的语音模型来生成音频\n",
    "\n",
    "### 音频问题故障排除\n",
    "\n",
    "如果您在运行下面的代码时遇到任何问题（例如 FileNotFound 错误，或缺少包的警告），您可能需要安装 FFmpeg，一个非常流行的音频工具。\n",
    "\n",
    "**对于 PC 用户**\n",
    "\n",
    "详细说明在[这里](https://chatgpt.com/share/6724efee-6b0c-8012-ac5e-72e2e3885905)，简要说明如下：\n",
    "\n",
    "1. 从官方网站下载 FFmpeg：https://ffmpeg.org/download.html\n",
    "\n",
    "2. 将下载的文件解压到您计算机上的一个位置（例如，`C:\\ffmpeg`）\n",
    "\n",
    "3. 将 FFmpeg 的 bin 文件夹添加到您的系统 PATH：\n",
    "- 右键点击“此电脑”或“我的电脑”，选择“属性”\n",
    "- 点击“高级系统设置”\n",
    "- 点击“环境变量”\n",
    "- 在“系统变量”下，找到并编辑“Path”\n",
    "- 添加一个新条目，路径为您的 FFmpeg bin 文件夹（例如，`C:\\ffmpeg\\bin`）\n",
    "- 重启您的命令提示符，并在 Jupyter Lab 中执行 内核 -> 重启内核，以应用更改\n",
    "\n",
    "4. 打开一个新的命令提示符并运行此命令，以确保其已正确安装\n",
    "`ffmpeg -version`\n",
    "\n",
    "**对于 Mac 用户**\n",
    "\n",
    "1. 如果您还没有 homebrew，请在终端窗口中运行此命令并按照任何说明进行安装：\n",
    "`/bin/bash -c \"$(curl -fsSL https://raw.githubusercontent.com/Homebrew/install/HEAD/install.sh)\"`\n",
    "\n",
    "2. 然后使用 `brew install ffmpeg` 安装 FFmpeg\n",
    "\n",
    "3. 使用 `ffmpeg -version` 验证您的安装，如果一切正常，在 Jupyter Lab 中执行 内核 -> 重启内核 以应用更改\n"
   ]
  },
  {
   "cell_type": "markdown",
   "id": "4cc90e80-c96e-4dd4-b9d6-386fe2b7e797",
   "metadata": {},
   "source": [
    "## 检查您现在是否已安装 ffmpeg 并且可以在此处访问\n",
    "\n",
    "执行下一个单元格，看看是否能得到版本号。（在 Jupyter Lab 中，在命令前加上感叹号表示将其作为终端命令而不是 python 代码运行）。\n",
    "\n",
    "如果这不起作用，您可能需要实际保存并关闭 Jupyter Lab，然后从一个新的终端窗口（Mac）或 Anaconda 提示符（PC）重新启动它，并记住激活 llms 环境。这确保您能加载 ffmpeg。"
   ]
  },
  {
   "cell_type": "code",
   "execution_count": null,
   "id": "7b3be0fb-1d34-4693-ab6f-dbff190afcd7",
   "metadata": {},
   "outputs": [],
   "source": [
    "!ffmpeg -version\n",
    "!ffprobe -version\n",
    "!ffplay -version"
   ]
  },
  {
   "cell_type": "markdown",
   "id": "d91d3f8f-e505-4e3c-a87c-9e42ed823db6",
   "metadata": {},
   "source": [
    "# 适用于 Mac 用户 - 可能也适用于许多 PC 用户\n",
    "\n",
    "这个版本对您来说应该可以正常工作。它也可能适用于 Windows 用户，但您可能会在写入临时文件时遇到权限错误。如果是这样，请参阅下一部分！\n",
    "\n",
    "（如果您对音频生成不太感兴趣，也可以在后面的代码中注释掉音频 talker()）"
   ]
  },
  {
   "cell_type": "code",
   "execution_count": 19,
   "id": "ffbfe93b-5e86-4e68-ba71-b301cd5230db",
   "metadata": {},
   "outputs": [],
   "source": [
    "from pydub import AudioSegment\n",
    "from pydub.playback import play\n",
    "\n",
    "def talker(message):\n",
    "    response = openai.audio.speech.create(\n",
    "      model=\"tts-1\",\n",
    "      voice=\"onyx\",    # 另外，可以尝试用 alloy 替换 onyx\n",
    "      input=message\n",
    "    )\n",
    "    \n",
    "    audio_stream = BytesIO(response.content)\n",
    "    audio = AudioSegment.from_file(audio_stream, format=\"mp3\")\n",
    "    play(audio)"
   ]
  },
  {
   "cell_type": "code",
   "execution_count": null,
   "id": "b88d775d-d357-4292-a1ad-5dc5ed567281",
   "metadata": {},
   "outputs": [],
   "source": [
    "talker(\"你好呀\")"
   ]
  },
  {
   "cell_type": "markdown",
   "id": "ad89a9bd-bb1e-4bbb-a49a-83af5f500c24",
   "metadata": {},
   "source": [
    "# 适用于 Windows 用户（或任何遇到上述问题的 Mac 用户）\n",
    "\n",
    "## 首先尝试上面的 Mac 版本，但如果您在写入临时文件时遇到权限错误，那么此代码应该可以替代。\n",
    "\n",
    "\n",
    "下面是 4 个变体 - 希望其中一个能在您的 PC 上工作。如果不行，请给我发消息！\n",
    "\n",
    "对于 Mac 用户 - 下面所有 3 个在我的 Mac 上也能工作 - 如果 Mac 版本给您带来了问题，请尝试这些。\n",
    "\n",
    "## PC 变体 1"
   ]
  },
  {
   "cell_type": "code",
   "execution_count": null,
   "id": "d104b96a-02ca-4159-82fe-88e0452aa479",
   "metadata": {},
   "outputs": [],
   "source": [
    "import base64\n",
    "from io import BytesIO\n",
    "from PIL import Image\n",
    "from IPython.display import Audio, display\n",
    "\n",
    "def talker(message):\n",
    "    response = openai.audio.speech.create(\n",
    "        model=\"tts-1\",\n",
    "        voice=\"onyx\",\n",
    "        input=message)\n",
    "\n",
    "    audio_stream = BytesIO(response.content)\n",
    "    output_filename = \"output_audio.mp3\"\n",
    "    with open(output_filename, \"wb\") as f:\n",
    "        f.write(audio_stream.read())\n",
    "\n",
    "    # 播放生成的音频\n",
    "    display(Audio(output_filename, autoplay=True))\n",
    "\n",
    "talker(\"你好呀\")"
   ]
  },
  {
   "cell_type": "markdown",
   "id": "3a5d11f4-bbd3-43a1-904d-f684eb5f3e3a",
   "metadata": {},
   "source": [
    "## PC 变体 2"
   ]
  },
  {
   "cell_type": "code",
   "execution_count": null,
   "id": "d59c8ebd-79c5-498a-bdf2-3a1c50d91aa0",
   "metadata": {},
   "outputs": [],
   "source": [
    "import tempfile\n",
    "import subprocess\n",
    "from io import BytesIO\n",
    "from pydub import AudioSegment\n",
    "import time\n",
    "\n",
    "def play_audio(audio_segment):\n",
    "    temp_dir = tempfile.gettempdir()\n",
    "    temp_path = os.path.join(temp_dir, \"temp_audio.wav\")\n",
    "    try:\n",
    "        audio_segment.export(temp_path, format=\"wav\")\n",
    "        time.sleep(3) # 学生发现这是必需的。您也可以尝试注释掉，看看在您的 PC 上是否需要\n",
    "        subprocess.call([\n",
    "            \"ffplay\",\n",
    "            \"-nodisp\",\n",
    "            \"-autoexit\",\n",
    "            \"-hide_banner\",\n",
    "            temp_path\n",
    "        ], stdout=subprocess.DEVNULL, stderr=subprocess.DEVNULL)\n",
    "    finally:\n",
    "        try:\n",
    "            os.remove(temp_path)\n",
    "        except Exception:\n",
    "            pass\n",
    " \n",
    "def talker(message):\n",
    "    response = openai.audio.speech.create(\n",
    "        model=\"tts-1\",\n",
    "        voice=\"onyx\",  # 另外，可以尝试用 alloy 替换 onyx\n",
    "        input=message\n",
    "    )\n",
    "    audio_stream = BytesIO(response.content)\n",
    "    audio = AudioSegment.from_file(audio_stream, format=\"mp3\")\n",
    "    play_audio(audio)\n",
    "\n",
    "talker(\"你好呀\")"
   ]
  },
  {
   "cell_type": "markdown",
   "id": "96f90e35-f71e-468e-afea-07b98f74dbcf",
   "metadata": {},
   "source": [
    "## PC 变体 3"
   ]
  },
  {
   "cell_type": "code",
   "execution_count": null,
   "id": "8597c7f8-7b50-44ad-9b31-db12375cd57b",
   "metadata": {},
   "outputs": [],
   "source": [
    "import os\n",
    "from pydub import AudioSegment\n",
    "from pydub.playback import play\n",
    "from io import BytesIO\n",
    "\n",
    "def talker(message):\n",
    "    # 在 Windows 上为临时文件设置一个自定义目录\n",
    "    custom_temp_dir = os.path.expanduser(\"~/Documents/temp_audio\")\n",
    "    os.environ['TEMP'] = custom_temp_dir  # 如果需要，您也可以使用 'TMP'\n",
    "    \n",
    "    # 如果文件夹不存在则创建\n",
    "    if not os.path.exists(custom_temp_dir):\n",
    "        os.makedirs(custom_temp_dir)\n",
    "    \n",
    "    response = openai.audio.speech.create(\n",
    "        model=\"tts-1\",\n",
    "        voice=\"onyx\",  # 另外，可以尝试用 alloy 替换 onyx\n",
    "        input=message\n",
    "    )\n",
    "    \n",
    "    audio_stream = BytesIO(response.content)\n",
    "    audio = AudioSegment.from_file(audio_stream, format=\"mp3\")\n",
    "\n",
    "    play(audio)\n",
    "\n",
    "talker(\"你好呀\")"
   ]
  },
  {
   "cell_type": "markdown",
   "id": "e821224c-b069-4f9b-9535-c15fdb0e411c",
   "metadata": {},
   "source": [
    "## PC 变体 4\n",
    "\n",
    "### 让我们尝试一个完全不同的声音库\n",
    "\n",
    "首先运行下一个单元格来安装一个新库，然后尝试它下面的单元格。"
   ]
  },
  {
   "cell_type": "code",
   "execution_count": null,
   "id": "69d3c0d9-afcc-49e3-b829-9c9869d8b472",
   "metadata": {},
   "outputs": [],
   "source": [
    "!pip install simpleaudio"
   ]
  },
  {
   "cell_type": "code",
   "execution_count": null,
   "id": "28f9cc99-36b7-4554-b3f4-f2012f614a13",
   "metadata": {},
   "outputs": [],
   "source": [
    "from pydub import AudioSegment\n",
    "from io import BytesIO\n",
    "import tempfile\n",
    "import os\n",
    "import simpleaudio as sa\n",
    "\n",
    "def talker(message):\n",
    "    response = openai.audio.speech.create(\n",
    "        model=\"tts-1\",\n",
    "        voice=\"onyx\",  # 另外，可以尝试用 alloy 替换 onyx\n",
    "        input=message\n",
    "    )\n",
    "    \n",
    "    audio_stream = BytesIO(response.content)\n",
    "    audio = AudioSegment.from_file(audio_stream, format=\"mp3\")\n",
    "\n",
    "    # 在您有写入权限的文件夹中创建一个临时文件\n",
    "    with tempfile.NamedTemporaryFile(suffix=\".wav\", delete=False, dir=os.path.expanduser(\"~/Documents\")) as temp_audio_file:\n",
    "        temp_file_name = temp_audio_file.name\n",
    "        audio.export(temp_file_name, format=\"wav\")\n",
    "    \n",
    "    # 使用 simpleaudio 加载并播放音频\n",
    "    wave_obj = sa.WaveObject.from_wave_file(temp_file_name)\n",
    "    play_obj = wave_obj.play()\n",
    "    play_obj.wait_done()  # 等待播放完成\n",
    "\n",
    "    # 之后清理临时文件\n",
    "    os.remove(temp_file_name)\n",
    "    \n",
    "talker(\"你好呀\")"
   ]
  },
  {
   "cell_type": "markdown",
   "id": "7986176b-cd04-495f-a47f-e057b0e462ed",
   "metadata": {},
   "source": [
    "## PC 用户 - 如果这 4 个变体都不起作用！\n",
    "\n",
    "另外：从您的 PC 播放音频对于本课程并非至关重要，您可以暂时跳过音频，专注于图像生成，或稍后再回来处理。"
   ]
  },
  {
   "cell_type": "markdown",
   "id": "1d48876d-c4fa-46a8-a04f-f9fadf61fb0d",
   "metadata": {},
   "source": [
    "# 我们的 Agent 框架\n",
    "\n",
    "术语“Agentic AI”和“Agentization”是一个总称，指的是多种技术，例如：\n",
    "\n",
    "1. 将复杂问题分解为更小的步骤，由多个 LLM 执行专门任务\n",
    "2. LLM 使用工具赋予其额外能力的能力\n",
    "3. 允许 Agent 协作的“Agent 环境”\n",
    "4. 一个 LLM 可以充当规划者，将更大的任务分解为更小的任务给专家\n",
    "5. Agent 具有自主性/能动性的概念，超越了仅仅响应提示 - 例如记忆\n",
    "\n",
    "我们在这里展示了 1 和 2，以及在较小程度上展示了 3 和 5。在第 8 周，我们将全部实现！"
   ]
  },
  {
   "cell_type": "code",
   "execution_count": 20,
   "id": "ba820c95-02f5-499e-8f3c-8727ee0a6c0c",
   "metadata": {},
   "outputs": [],
   "source": [
    "def chat(history):\n",
    "    messages = [{\"role\": \"system\", \"content\": system_message}] + history\n",
    "    response = openai.chat.completions.create(model=MODEL, messages=messages, tools=tools)\n",
    "    image = None\n",
    "    \n",
    "    if response.choices[0].finish_reason==\"tool_calls\":\n",
    "        message = response.choices[0].message\n",
    "        response, city = handle_tool_call(message)\n",
    "        messages.append(message)\n",
    "        messages.append(response)\n",
    "        image = artist(city)\n",
    "        response = openai.chat.completions.create(model=MODEL, messages=messages)\n",
    "        \n",
    "    reply = response.choices[0].message.content\n",
    "    history += [{\"role\":\"assistant\", \"content\":reply}]\n",
    "\n",
    "    # 如果您暂时想跳过音频，请注释掉或删除下一行..\n",
    "    talker(reply)\n",
    "    \n",
    "    return history, image"
   ]
  },
  {
   "cell_type": "code",
   "execution_count": 21,
   "id": "f38d0d27-33bf-4992-a2e5-5dbed973cde7",
   "metadata": {},
   "outputs": [
    {
     "name": "stdout",
     "output_type": "stream",
     "text": [
      "* Running on local URL:  http://127.0.0.1:7861\n",
      "\n",
      "To create a public link, set `share=True` in `launch()`.\n"
     ]
    },
    {
     "data": {
      "text/html": [
       "<div><iframe src=\"http://127.0.0.1:7861/\" width=\"100%\" height=\"500\" allow=\"autoplay; camera; microphone; clipboard-read; clipboard-write;\" frameborder=\"0\" allowfullscreen></iframe></div>"
      ],
      "text/plain": [
       "<IPython.core.display.HTML object>"
      ]
     },
     "metadata": {},
     "output_type": "display_data"
    },
    {
     "data": {
      "text/plain": []
     },
     "execution_count": 21,
     "metadata": {},
     "output_type": "execute_result"
    },
    {
     "name": "stderr",
     "output_type": "stream",
     "text": [
      "Input #0, wav, from '/var/folders/1h/5lrr936116vb7f6_ngch9f080000gn/T/tmpt53_cj20.wav':\n",
      "  Duration: 00:00:02.88, bitrate: 384 kb/s\n",
      "  Stream #0:0: Audio: pcm_s16le ([1][0][0][0] / 0x0001), 24000 Hz, 1 channels, s16, 384 kb/s\n",
      "   2.76 M-A:  0.000 fd=   0 aq=    0KB vq=    0KB sq=    0B "
     ]
    },
    {
     "name": "stdout",
     "output_type": "stream",
     "text": [
      "\n",
      "工具 get_ticket_price 已为 北京 调用\n"
     ]
    },
    {
     "name": "stderr",
     "output_type": "stream",
     "text": [
      "Input #0, wav, from '/var/folders/1h/5lrr936116vb7f6_ngch9f080000gn/T/tmpmb_n1tou.wav':\n",
      "  Duration: 00:00:04.03, bitrate: 384 kb/s\n",
      "  Stream #0:0: Audio: pcm_s16le ([1][0][0][0] / 0x0001), 24000 Hz, 1 channels, s16, 384 kb/s\n",
      "   3.96 M-A:  0.000 fd=   0 aq=    0KB vq=    0KB sq=    0B "
     ]
    },
    {
     "name": "stdout",
     "output_type": "stream",
     "text": [
      "\n"
     ]
    }
   ],
   "source": [
    "# 更复杂的 Gradio 代码，因为我们没有使用预设的聊天界面！\n",
    "# 在最后一行传入 inbrowser=True 会立即弹出一个 Gradio 窗口。\n",
    "\n",
    "with gr.Blocks() as ui:\n",
    "    with gr.Row():\n",
    "        chatbot = gr.Chatbot(height=500, type=\"messages\")\n",
    "        image_output = gr.Image(height=500)\n",
    "    with gr.Row():\n",
    "        entry = gr.Textbox(label=\"与我们的 AI 助手聊天：\")\n",
    "    with gr.Row():\n",
    "        clear = gr.Button(\"清除\")\n",
    "\n",
    "    def do_entry(message, history):\n",
    "        history += [{\"role\":\"user\", \"content\":message}]\n",
    "        return \"\", history\n",
    "\n",
    "    entry.submit(do_entry, inputs=[entry, chatbot], outputs=[entry, chatbot]).then(\n",
    "        chat, inputs=chatbot, outputs=[chatbot, image_output]\n",
    "    )\n",
    "    clear.click(lambda: None, inputs=None, outputs=chatbot, queue=False)\n",
    "\n",
    "ui.launch(inbrowser=True)"
   ]
  },
  {
   "cell_type": "markdown",
   "id": "226643d2-73e4-4252-935d-86b8019e278a",
   "metadata": {},
   "source": [
    "# 练习和商业应用\n",
    "\n",
    "添加更多工具 - 也许可以模拟实际预订航班。\n",
    "\n",
    "下一步：将此应用于您的业务。制作一个带有工具的多模态 AI 助手，可以为您的工作执行活动。一个客户支持助手？新员工入职助手？可能性太多了！另外，请参阅单独笔记本中的第 2 周周末练习。"
   ]
  },
  {
   "cell_type": "code",
   "execution_count": null,
   "id": "8e8c6108-b294-4442-80fa-ee32527c512f",
   "metadata": {},
   "outputs": [],
   "source": []
  }
 ],
 "metadata": {
  "kernelspec": {
   "display_name": "Python 3 (ipykernel)",
   "language": "python",
   "name": "python3"
  },
  "language_info": {
   "codemirror_mode": {
    "name": "ipython",
    "version": 3
   },
   "file_extension": ".py",
   "mimetype": "text/x-python",
   "name": "python",
   "nbconvert_exporter": "python",
   "pygments_lexer": "ipython3",
   "version": "3.11.12"
  }
 },
 "nbformat": 4,
 "nbformat_minor": 5
}
